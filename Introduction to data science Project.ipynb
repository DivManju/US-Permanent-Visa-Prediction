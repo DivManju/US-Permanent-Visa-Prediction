{
 "cells": [
  {
   "cell_type": "markdown",
   "metadata": {},
   "source": [
    "# US Permanent Visa Applications - Trend Analysis and Model Building"
   ]
  },
  {
   "cell_type": "markdown",
   "metadata": {},
   "source": [
    "The American Dream: a simple idea that promises success to all who reside and work hard in the land of the free and home of the brave. The notion of living in a country with social, political, and religious liberty continues to lure foreigners.\n",
    "\n",
    "Lawful permanent residents, also known as legal permanent residents, and informally known as green card holders, are immigrants under the Immigration and Nationality Act (INA), with rights, benefits, and privileges to reside in the United States permanently.\n",
    "\n",
    "In order to apply for a Green Card, you must be eligible under one of the categories listed below.\n",
    "\n",
    "- Green Card through Family \n",
    "- Green Card through Employment\n",
    "- Green Card as a Special Immigrant\n",
    "- Green Card through Refugee or Asylee Status\n",
    "- Green Card for Human Trafficking and Crime Victims\n",
    "- Green Card for Victims of Abuse\n",
    "- Green Card through Other Categories\n",
    "- Green Card through Registry\n",
    "\n",
    "Due to surge in number of visa appilcations and the recent political and administrative reforms a sharp increase in visa application rate is observed. Each year hundreds of thousands of people around the world apply for the immigrant (permanent residency) visa program provided by the U.S. government, however only a few thousand people succeed."
   ]
  },
  {
   "cell_type": "markdown",
   "metadata": {},
   "source": [
    "**In this notebook we try to derive some meaningful insights from the employment based US Permanent Visa Application decisions and predict the fate of visa applications based on chosen features**\n",
    "\n",
    "There are three stages in the employment based green card process:\n",
    "\n",
    "- PERM application filed with the DOL \n",
    "- I-140, Immigrant Petition for Alien Worker, filed with US Citizenship and Immigration Services (USCIS)\n",
    "- I-485, Application for Adjustment of Status, filed with USCIS\n",
    "\n",
    "**The data is collected and distributed by United States Divison of Labor(DOL). It covers the years of 2012 to 2017 and includes information on employer, position, wage offered, job posting history, employee education and past visa history, associated lawyers, and final decision.**\n",
    "\n",
    "The analysis is restricted to the first stage of employment based green card i.e PERM application filed with the DOL.\n",
    "Program Electronic Review Management (PERM) is an electronic processing system for filing labor certification applications with the US Department of Labor (DOL)."
   ]
  },
  {
   "cell_type": "markdown",
   "metadata": {},
   "source": [
    "\n",
    "Import necessary packages and verify existence of data. "
   ]
  },
  {
   "cell_type": "code",
   "execution_count": 68,
   "metadata": {},
   "outputs": [
    {
     "data": {
      "text/plain": [
       "True"
      ]
     },
     "execution_count": 68,
     "metadata": {},
     "output_type": "execute_result"
    }
   ],
   "source": [
    "from IPython.display import display, HTML\n",
    "import pandas as pd\n",
    "import numpy as np\n",
    "import matplotlib.pyplot as plt\n",
    "import seaborn as sns\n",
    "import warnings\n",
    "warnings.filterwarnings(\"ignore\")\n",
    "%matplotlib inline\n",
    "\n",
    "import os.path\n",
    "os.path.isfile(\"./Data/us_perm_visas.csv\")"
   ]
  },
  {
   "cell_type": "markdown",
   "metadata": {},
   "source": [
    "### Data preprocessing ###\n",
    "\n",
    "**Understanding structure of data**"
   ]
  },
  {
   "cell_type": "code",
   "execution_count": 29,
   "metadata": {},
   "outputs": [],
   "source": [
    "#Read file from CSV\n",
    "# Decision_date and case_recieved_date are read as dates\n",
    "df = pd.read_csv('./Data/us_perm_visas.csv', low_memory = False, parse_dates=['decision_date', 'case_received_date'])"
   ]
  },
  {
   "cell_type": "code",
   "execution_count": 30,
   "metadata": {},
   "outputs": [
    {
     "name": "stdout",
     "output_type": "stream",
     "text": [
      "\u001b[1mNumber of Visa Applications:374362\u001b[0m\n",
      "\u001b[1mNumber of Columns:154\u001b[0m\n"
     ]
    },
    {
     "data": {
      "text/html": [
       "<div>\n",
       "<style scoped>\n",
       "    .dataframe tbody tr th:only-of-type {\n",
       "        vertical-align: middle;\n",
       "    }\n",
       "\n",
       "    .dataframe tbody tr th {\n",
       "        vertical-align: top;\n",
       "    }\n",
       "\n",
       "    .dataframe thead th {\n",
       "        text-align: right;\n",
       "    }\n",
       "</style>\n",
       "<table border=\"1\" class=\"dataframe\">\n",
       "  <thead>\n",
       "    <tr style=\"text-align: right;\">\n",
       "      <th></th>\n",
       "      <th>add_these_pw_job_title_9089</th>\n",
       "      <th>agent_city</th>\n",
       "      <th>agent_firm_name</th>\n",
       "      <th>agent_state</th>\n",
       "      <th>application_type</th>\n",
       "      <th>case_no</th>\n",
       "      <th>case_number</th>\n",
       "      <th>case_received_date</th>\n",
       "      <th>case_status</th>\n",
       "      <th>class_of_admission</th>\n",
       "      <th>...</th>\n",
       "      <th>ri_pvt_employment_firm_to</th>\n",
       "      <th>ri_us_workers_considered</th>\n",
       "      <th>schd_a_sheepherder</th>\n",
       "      <th>us_economic_sector</th>\n",
       "      <th>wage_offer_from_9089</th>\n",
       "      <th>wage_offer_to_9089</th>\n",
       "      <th>wage_offer_unit_of_pay_9089</th>\n",
       "      <th>wage_offered_from_9089</th>\n",
       "      <th>wage_offered_to_9089</th>\n",
       "      <th>wage_offered_unit_of_pay_9089</th>\n",
       "    </tr>\n",
       "  </thead>\n",
       "  <tbody>\n",
       "    <tr>\n",
       "      <th>374357</th>\n",
       "      <td>NaN</td>\n",
       "      <td>Buena Park</td>\n",
       "      <td>Law Offices of Yohan Lee</td>\n",
       "      <td>CA</td>\n",
       "      <td>NaN</td>\n",
       "      <td>NaN</td>\n",
       "      <td>A-16363-85407</td>\n",
       "      <td>2016-12-29</td>\n",
       "      <td>Withdrawn</td>\n",
       "      <td>NaN</td>\n",
       "      <td>...</td>\n",
       "      <td>NaN</td>\n",
       "      <td>NaN</td>\n",
       "      <td>N</td>\n",
       "      <td>NaN</td>\n",
       "      <td>28,330.00</td>\n",
       "      <td>NaN</td>\n",
       "      <td>Year</td>\n",
       "      <td>NaN</td>\n",
       "      <td>NaN</td>\n",
       "      <td>NaN</td>\n",
       "    </tr>\n",
       "    <tr>\n",
       "      <th>374358</th>\n",
       "      <td>NaN</td>\n",
       "      <td>Seattle</td>\n",
       "      <td>MacDonald Hoague &amp; Bayless</td>\n",
       "      <td>WA</td>\n",
       "      <td>NaN</td>\n",
       "      <td>NaN</td>\n",
       "      <td>A-16271-56745</td>\n",
       "      <td>2016-12-30</td>\n",
       "      <td>Withdrawn</td>\n",
       "      <td>L-1</td>\n",
       "      <td>...</td>\n",
       "      <td>NaN</td>\n",
       "      <td>Y</td>\n",
       "      <td>N</td>\n",
       "      <td>NaN</td>\n",
       "      <td>122,000.00</td>\n",
       "      <td>142,000.00</td>\n",
       "      <td>Year</td>\n",
       "      <td>NaN</td>\n",
       "      <td>NaN</td>\n",
       "      <td>NaN</td>\n",
       "    </tr>\n",
       "    <tr>\n",
       "      <th>374359</th>\n",
       "      <td>NaN</td>\n",
       "      <td>Schaumburg</td>\n",
       "      <td>International Legal and Business Services Grou...</td>\n",
       "      <td>IL</td>\n",
       "      <td>NaN</td>\n",
       "      <td>NaN</td>\n",
       "      <td>A-16354-82345</td>\n",
       "      <td>2016-12-30</td>\n",
       "      <td>Withdrawn</td>\n",
       "      <td>H-1B</td>\n",
       "      <td>...</td>\n",
       "      <td>NaN</td>\n",
       "      <td>NaN</td>\n",
       "      <td>N</td>\n",
       "      <td>NaN</td>\n",
       "      <td>79,082.00</td>\n",
       "      <td>79,082.00</td>\n",
       "      <td>Year</td>\n",
       "      <td>NaN</td>\n",
       "      <td>NaN</td>\n",
       "      <td>NaN</td>\n",
       "    </tr>\n",
       "    <tr>\n",
       "      <th>374360</th>\n",
       "      <td>NaN</td>\n",
       "      <td>LOS ANGELES</td>\n",
       "      <td>LAW OFFICES OF JAMES S HONG</td>\n",
       "      <td>CA</td>\n",
       "      <td>NaN</td>\n",
       "      <td>NaN</td>\n",
       "      <td>A-16357-84250</td>\n",
       "      <td>2016-12-30</td>\n",
       "      <td>Withdrawn</td>\n",
       "      <td>B-2</td>\n",
       "      <td>...</td>\n",
       "      <td>NaN</td>\n",
       "      <td>NaN</td>\n",
       "      <td>N</td>\n",
       "      <td>NaN</td>\n",
       "      <td>37,981.00</td>\n",
       "      <td>NaN</td>\n",
       "      <td>Year</td>\n",
       "      <td>NaN</td>\n",
       "      <td>NaN</td>\n",
       "      <td>NaN</td>\n",
       "    </tr>\n",
       "    <tr>\n",
       "      <th>374361</th>\n",
       "      <td>NaN</td>\n",
       "      <td>Phoenix</td>\n",
       "      <td>Fragomen, Del Rey, Bernsen &amp; Loewy, LLP</td>\n",
       "      <td>AZ</td>\n",
       "      <td>NaN</td>\n",
       "      <td>NaN</td>\n",
       "      <td>A-16279-59292</td>\n",
       "      <td>2016-12-30</td>\n",
       "      <td>Withdrawn</td>\n",
       "      <td>H-1B</td>\n",
       "      <td>...</td>\n",
       "      <td>NaN</td>\n",
       "      <td>NaN</td>\n",
       "      <td>N</td>\n",
       "      <td>NaN</td>\n",
       "      <td>84,926.00</td>\n",
       "      <td>121,500.00</td>\n",
       "      <td>Year</td>\n",
       "      <td>NaN</td>\n",
       "      <td>NaN</td>\n",
       "      <td>NaN</td>\n",
       "    </tr>\n",
       "  </tbody>\n",
       "</table>\n",
       "<p>5 rows × 154 columns</p>\n",
       "</div>"
      ],
      "text/plain": [
       "       add_these_pw_job_title_9089   agent_city  \\\n",
       "374357                         NaN   Buena Park   \n",
       "374358                         NaN      Seattle   \n",
       "374359                         NaN   Schaumburg   \n",
       "374360                         NaN  LOS ANGELES   \n",
       "374361                         NaN      Phoenix   \n",
       "\n",
       "                                          agent_firm_name agent_state  \\\n",
       "374357                           Law Offices of Yohan Lee          CA   \n",
       "374358                         MacDonald Hoague & Bayless          WA   \n",
       "374359  International Legal and Business Services Grou...          IL   \n",
       "374360                        LAW OFFICES OF JAMES S HONG          CA   \n",
       "374361            Fragomen, Del Rey, Bernsen & Loewy, LLP          AZ   \n",
       "\n",
       "       application_type case_no    case_number case_received_date case_status  \\\n",
       "374357              NaN     NaN  A-16363-85407         2016-12-29   Withdrawn   \n",
       "374358              NaN     NaN  A-16271-56745         2016-12-30   Withdrawn   \n",
       "374359              NaN     NaN  A-16354-82345         2016-12-30   Withdrawn   \n",
       "374360              NaN     NaN  A-16357-84250         2016-12-30   Withdrawn   \n",
       "374361              NaN     NaN  A-16279-59292         2016-12-30   Withdrawn   \n",
       "\n",
       "       class_of_admission              ...                \\\n",
       "374357                NaN              ...                 \n",
       "374358                L-1              ...                 \n",
       "374359               H-1B              ...                 \n",
       "374360                B-2              ...                 \n",
       "374361               H-1B              ...                 \n",
       "\n",
       "       ri_pvt_employment_firm_to ri_us_workers_considered schd_a_sheepherder  \\\n",
       "374357                       NaN                      NaN                  N   \n",
       "374358                       NaN                        Y                  N   \n",
       "374359                       NaN                      NaN                  N   \n",
       "374360                       NaN                      NaN                  N   \n",
       "374361                       NaN                      NaN                  N   \n",
       "\n",
       "       us_economic_sector wage_offer_from_9089 wage_offer_to_9089  \\\n",
       "374357                NaN            28,330.00                NaN   \n",
       "374358                NaN           122,000.00         142,000.00   \n",
       "374359                NaN            79,082.00          79,082.00   \n",
       "374360                NaN            37,981.00                NaN   \n",
       "374361                NaN            84,926.00         121,500.00   \n",
       "\n",
       "       wage_offer_unit_of_pay_9089 wage_offered_from_9089  \\\n",
       "374357                        Year                    NaN   \n",
       "374358                        Year                    NaN   \n",
       "374359                        Year                    NaN   \n",
       "374360                        Year                    NaN   \n",
       "374361                        Year                    NaN   \n",
       "\n",
       "       wage_offered_to_9089  wage_offered_unit_of_pay_9089  \n",
       "374357                  NaN                            NaN  \n",
       "374358                  NaN                            NaN  \n",
       "374359                  NaN                            NaN  \n",
       "374360                  NaN                            NaN  \n",
       "374361                  NaN                            NaN  \n",
       "\n",
       "[5 rows x 154 columns]"
      ]
     },
     "execution_count": 30,
     "metadata": {},
     "output_type": "execute_result"
    }
   ],
   "source": [
    "print(\"\\033[1mNumber of Visa Applications:%s\\033[0m\" %len(df))\n",
    "print(\"\\033[1mNumber of Columns:%s\\033[0m\" %len(df.columns))\n",
    "df.tail()"
   ]
  },
  {
   "cell_type": "code",
   "execution_count": 31,
   "metadata": {},
   "outputs": [
    {
     "name": "stdout",
     "output_type": "stream",
     "text": [
      "\u001b[1mColumn Names\u001b[0m\n",
      "\n",
      "['add_these_pw_job_title_9089' 'agent_city' 'agent_firm_name'\n",
      " 'agent_state' 'application_type' 'case_no' 'case_number'\n",
      " 'case_received_date' 'case_status' 'class_of_admission'\n",
      " 'country_of_citizenship' 'country_of_citzenship' 'decision_date'\n",
      " 'employer_address_1' 'employer_address_2' 'employer_city'\n",
      " 'employer_country' 'employer_decl_info_title' 'employer_name'\n",
      " 'employer_num_employees' 'employer_phone' 'employer_phone_ext'\n",
      " 'employer_postal_code' 'employer_state' 'employer_yr_estab'\n",
      " 'foreign_worker_info_alt_edu_experience'\n",
      " 'foreign_worker_info_birth_country' 'foreign_worker_info_city'\n",
      " 'foreign_worker_info_education' 'foreign_worker_info_education_other'\n",
      " 'foreign_worker_info_inst' 'foreign_worker_info_major'\n",
      " 'foreign_worker_info_postal_code' 'foreign_worker_info_rel_occup_exp'\n",
      " 'foreign_worker_info_req_experience' 'foreign_worker_info_state'\n",
      " 'foreign_worker_info_training_comp' 'foreign_worker_ownership_interest'\n",
      " 'foreign_worker_yr_rel_edu_completed' 'fw_info_alt_edu_experience'\n",
      " 'fw_info_birth_country' 'fw_info_education_other' 'fw_info_postal_code'\n",
      " 'fw_info_rel_occup_exp' 'fw_info_req_experience' 'fw_info_training_comp'\n",
      " 'fw_info_yr_rel_edu_completed' 'fw_ownership_interest'\n",
      " 'ji_foreign_worker_live_on_premises' 'ji_fw_live_on_premises'\n",
      " 'ji_live_in_dom_svc_contract' 'ji_live_in_domestic_service'\n",
      " 'ji_offered_to_sec_j_foreign_worker' 'ji_offered_to_sec_j_fw'\n",
      " 'job_info_alt_cmb_ed_oth_yrs' 'job_info_alt_combo_ed'\n",
      " 'job_info_alt_combo_ed_exp' 'job_info_alt_combo_ed_other'\n",
      " 'job_info_alt_field' 'job_info_alt_field_name' 'job_info_alt_occ'\n",
      " 'job_info_alt_occ_job_title' 'job_info_alt_occ_num_months'\n",
      " 'job_info_combo_occupation' 'job_info_education'\n",
      " 'job_info_education_other' 'job_info_experience'\n",
      " 'job_info_experience_num_months' 'job_info_foreign_ed'\n",
      " 'job_info_foreign_lang_req' 'job_info_job_req_normal'\n",
      " 'job_info_job_title' 'job_info_major' 'job_info_training'\n",
      " 'job_info_training_field' 'job_info_training_num_months'\n",
      " 'job_info_work_city' 'job_info_work_postal_code' 'job_info_work_state'\n",
      " 'naics_2007_us_code' 'naics_2007_us_title' 'naics_code' 'naics_title'\n",
      " 'naics_us_code' 'naics_us_code_2007' 'naics_us_title'\n",
      " 'naics_us_title_2007' 'orig_case_no' 'orig_file_date'\n",
      " 'preparer_info_emp_completed' 'preparer_info_title' 'pw_amount_9089'\n",
      " 'pw_determ_date' 'pw_expire_date' 'pw_job_title_908' 'pw_job_title_9089'\n",
      " 'pw_level_9089' 'pw_soc_code' 'pw_soc_title' 'pw_source_name_9089'\n",
      " 'pw_source_name_other_9089' 'pw_track_num' 'pw_unit_of_pay_9089'\n",
      " 'rec_info_barg_rep_notified' 'recr_info_barg_rep_notified'\n",
      " 'recr_info_coll_teach_comp_proc' 'recr_info_coll_univ_teacher'\n",
      " 'recr_info_employer_rec_payment' 'recr_info_first_ad_start'\n",
      " 'recr_info_job_fair_from' 'recr_info_job_fair_to'\n",
      " 'recr_info_on_campus_recr_from' 'recr_info_on_campus_recr_to'\n",
      " 'recr_info_pro_org_advert_from' 'recr_info_pro_org_advert_to'\n",
      " 'recr_info_prof_org_advert_from' 'recr_info_prof_org_advert_to'\n",
      " 'recr_info_professional_occ' 'recr_info_radio_tv_ad_from'\n",
      " 'recr_info_radio_tv_ad_to' 'recr_info_second_ad_start'\n",
      " 'recr_info_sunday_newspaper' 'recr_info_swa_job_order_end'\n",
      " 'recr_info_swa_job_order_start' 'refile' 'ri_1st_ad_newspaper_name'\n",
      " 'ri_2nd_ad_newspaper_name' 'ri_2nd_ad_newspaper_or_journal'\n",
      " 'ri_campus_placement_from' 'ri_campus_placement_to'\n",
      " 'ri_coll_tch_basic_process' 'ri_coll_teach_pro_jnl'\n",
      " 'ri_coll_teach_select_date' 'ri_employee_referral_prog_from'\n",
      " 'ri_employee_referral_prog_to' 'ri_employer_web_post_from'\n",
      " 'ri_employer_web_post_to' 'ri_job_search_website_from'\n",
      " 'ri_job_search_website_to' 'ri_layoff_in_past_six_months'\n",
      " 'ri_local_ethnic_paper_from' 'ri_local_ethnic_paper_to'\n",
      " 'ri_posted_notice_at_worksite' 'ri_pvt_employment_firm_from'\n",
      " 'ri_pvt_employment_firm_to' 'ri_us_workers_considered'\n",
      " 'schd_a_sheepherder' 'us_economic_sector' 'wage_offer_from_9089'\n",
      " 'wage_offer_to_9089' 'wage_offer_unit_of_pay_9089'\n",
      " 'wage_offered_from_9089' 'wage_offered_to_9089'\n",
      " 'wage_offered_unit_of_pay_9089']\n"
     ]
    }
   ],
   "source": [
    "print(\"\\033[1mColumn Names\\033[0m\\n\")\n",
    "print(df.columns.values)"
   ]
  },
  {
   "cell_type": "markdown",
   "metadata": {},
   "source": [
    "**Dimensionality reduction**\n",
    "\n",
    "Remove reduandant attributes and those that do not pertain to our analysis.\n",
    "    \n",
    "- case_number and case_no attributes with similar information.<br>\n",
    "    \n",
    "    Let us verify our claim."
   ]
  },
  {
   "cell_type": "code",
   "execution_count": 32,
   "metadata": {},
   "outputs": [
    {
     "name": "stdout",
     "output_type": "stream",
     "text": [
      "Length of case_number column is:  374362  with 135269 missing values\n",
      "\n",
      "First two values of case_number column are :\n"
     ]
    },
    {
     "data": {
      "text/plain": [
       "0    NaN\n",
       "1    NaN\n",
       "Name: case_number, dtype: object"
      ]
     },
     "metadata": {},
     "output_type": "display_data"
    },
    {
     "name": "stdout",
     "output_type": "stream",
     "text": [
      "Last two values of case_number column are :\n"
     ]
    },
    {
     "data": {
      "text/plain": [
       "374360    A-16357-84250\n",
       "374361    A-16279-59292\n",
       "Name: case_number, dtype: object"
      ]
     },
     "metadata": {},
     "output_type": "display_data"
    },
    {
     "name": "stdout",
     "output_type": "stream",
     "text": [
      "Length of case_no column is:  374362  with 239093 missing values\n",
      "\n",
      "First two values of case_no column are :\n"
     ]
    },
    {
     "data": {
      "text/plain": [
       "0    A-07323-97014\n",
       "1    A-07332-99439\n",
       "Name: case_no, dtype: object"
      ]
     },
     "metadata": {},
     "output_type": "display_data"
    },
    {
     "name": "stdout",
     "output_type": "stream",
     "text": [
      "Last two values of case_no column are :\n"
     ]
    },
    {
     "data": {
      "text/plain": [
       "374360    NaN\n",
       "374361    NaN\n",
       "Name: case_no, dtype: object"
      ]
     },
     "metadata": {},
     "output_type": "display_data"
    }
   ],
   "source": [
    "print(\"Length of case_number column is: \", len(df['case_number']),\" with\",df.case_number.isnull().sum(), \"missing values\\n\")\n",
    "print(\"First two values of case_number column are :\")\n",
    "display(df['case_number'].head(2))\n",
    "print(\"Last two values of case_number column are :\")\n",
    "display(df['case_number'].tail(2))\n",
    "print(\"Length of case_no column is: \", len(df['case_no']),\" with\", df.case_no.isnull().sum(),\"missing values\\n\")\n",
    "print(\"First two values of case_no column are :\")\n",
    "display(df['case_no'].head(2))\n",
    "print(\"Last two values of case_no column are :\")\n",
    "display(df['case_no'].tail(2))"
   ]
  },
  {
   "cell_type": "markdown",
   "metadata": {},
   "source": [
    "As anticipated these columns contain similar values and their \"NaN\" values add up to the total number of observations.\n",
    "Let us create a new column containing only non missing values from both \"case_number\" and \"case_no\" attributes and copy the contents to a new column casenumber and drop the former newly created columns."
   ]
  },
  {
   "cell_type": "code",
   "execution_count": 33,
   "metadata": {},
   "outputs": [],
   "source": [
    "casenoindex = df.columns.get_loc(\"case_no\")\n",
    "casenumberindex = df.columns.get_loc(\"case_number\")\n",
    "casenumberlist = []\n",
    "\n",
    "for value in df.iloc[0:135269,casenoindex]:\n",
    "    casenumberlist.append(value)\n",
    "    \n",
    "for value in df.iloc[135269:374363,casenumberindex]:\n",
    "    casenumberlist.append(value)\n",
    "    \n",
    "df['casenumber'] = casenumberlist\n",
    "df.drop(df.columns[[casenoindex,casenumberindex]], axis=1, inplace=True)"
   ]
  },
  {
   "cell_type": "markdown",
   "metadata": {},
   "source": [
    "- case_status\n",
    "\n",
    "    Column contains information about decision made for respective Visa application.Get lengths of unique statues."
   ]
  },
  {
   "cell_type": "code",
   "execution_count": 34,
   "metadata": {},
   "outputs": [
    {
     "name": "stdout",
     "output_type": "stream",
     "text": [
      "181933  applications 'Certified'\n",
      "25649  applications 'Denied'\n",
      "148586  applications 'Certified-Expired'\n",
      "18194  applications 'Withdrawn'\n"
     ]
    }
   ],
   "source": [
    "for value in df.case_status.unique():\n",
    "    print(len(df[df['case_status'] == value]),\" applications '{}'\".format(value))"
   ]
  },
  {
   "cell_type": "markdown",
   "metadata": {},
   "source": [
    "The observations contain some records with status == \"Withdrawn\" which needs to be dropped.\n",
    "\n",
    "US permanent visa petitioners have six months time to file I-140 form (the second stage in green card process) after receiving PERM is \"Certified\" before it expires and turns to \"Certified-Expired\" status.\n",
    "\n",
    "Since we are concerned only with the first stage of green card process( PERM certification status), let us rename Certified-Expired to Certified. This leaves us with only two case status \"Certified\" and \"Denied\""
   ]
  },
  {
   "cell_type": "code",
   "execution_count": 35,
   "metadata": {},
   "outputs": [
    {
     "data": {
      "text/plain": [
       "Certified    330519\n",
       "Denied        25649\n",
       "Name: case_status, dtype: int64"
      ]
     },
     "execution_count": 35,
     "metadata": {},
     "output_type": "execute_result"
    }
   ],
   "source": [
    "#Removing all withdrawn applications\n",
    "df = df[df.case_status != 'Withdrawn']\n",
    "\n",
    "#Combining certified-expired and certified applications and displaying distribution of \"case_status\" variable\n",
    "df.loc[df.case_status == 'Certified-Expired', 'case_status'] = 'Certified'\n",
    "df.case_status.value_counts()"
   ]
  },
  {
   "cell_type": "markdown",
   "metadata": {},
   "source": [
    "Only 7.2% of Visa applications were denied. Some great news there!"
   ]
  },
  {
   "cell_type": "markdown",
   "metadata": {},
   "source": [
    "- Remove observations with only NaN values."
   ]
  },
  {
   "cell_type": "code",
   "execution_count": 36,
   "metadata": {},
   "outputs": [
    {
     "data": {
      "text/plain": [
       "(356168, 153)"
      ]
     },
     "execution_count": 36,
     "metadata": {},
     "output_type": "execute_result"
    }
   ],
   "source": [
    "#Dropping all empty columns\n",
    "df = df.dropna(axis=1, how='all');\n",
    "\n",
    "#Dropping all empty rows\n",
    "df = df.dropna(axis=0, how='all');\n",
    "\n",
    "df.shape"
   ]
  },
  {
   "cell_type": "markdown",
   "metadata": {},
   "source": [
    "It appears there are no rows and columns with NaN values.<br>\n"
   ]
  },
  {
   "cell_type": "markdown",
   "metadata": {},
   "source": [
    "**Attribute Formatting**\n",
    " \n",
    " - 'pw_amount_9089' and 'pw_unit_of_pay_9089'<br>\n",
    "    \n",
    "    Get the structure of the attribute"
   ]
  },
  {
   "cell_type": "code",
   "execution_count": 10,
   "metadata": {},
   "outputs": [
    {
     "data": {
      "text/html": [
       "<div>\n",
       "<style scoped>\n",
       "    .dataframe tbody tr th:only-of-type {\n",
       "        vertical-align: middle;\n",
       "    }\n",
       "\n",
       "    .dataframe tbody tr th {\n",
       "        vertical-align: top;\n",
       "    }\n",
       "\n",
       "    .dataframe thead th {\n",
       "        text-align: right;\n",
       "    }\n",
       "</style>\n",
       "<table border=\"1\" class=\"dataframe\">\n",
       "  <thead>\n",
       "    <tr style=\"text-align: right;\">\n",
       "      <th></th>\n",
       "      <th>pw_amount_9089</th>\n",
       "      <th>pw_unit_of_pay_9089</th>\n",
       "    </tr>\n",
       "  </thead>\n",
       "  <tbody>\n",
       "    <tr>\n",
       "      <th>0</th>\n",
       "      <td>75629.0</td>\n",
       "      <td>yr</td>\n",
       "    </tr>\n",
       "    <tr>\n",
       "      <th>1</th>\n",
       "      <td>37024.0</td>\n",
       "      <td>yr</td>\n",
       "    </tr>\n",
       "    <tr>\n",
       "      <th>2</th>\n",
       "      <td>47923.0</td>\n",
       "      <td>yr</td>\n",
       "    </tr>\n",
       "    <tr>\n",
       "      <th>3</th>\n",
       "      <td>10.97</td>\n",
       "      <td>hr</td>\n",
       "    </tr>\n",
       "    <tr>\n",
       "      <th>4</th>\n",
       "      <td>94890.0</td>\n",
       "      <td>yr</td>\n",
       "    </tr>\n",
       "    <tr>\n",
       "      <th>374349</th>\n",
       "      <td>84,635.00</td>\n",
       "      <td>Year</td>\n",
       "    </tr>\n",
       "    <tr>\n",
       "      <th>374350</th>\n",
       "      <td>69,098.00</td>\n",
       "      <td>Year</td>\n",
       "    </tr>\n",
       "    <tr>\n",
       "      <th>374351</th>\n",
       "      <td>114,795.00</td>\n",
       "      <td>Year</td>\n",
       "    </tr>\n",
       "    <tr>\n",
       "      <th>374352</th>\n",
       "      <td>112,354.00</td>\n",
       "      <td>Year</td>\n",
       "    </tr>\n",
       "    <tr>\n",
       "      <th>374353</th>\n",
       "      <td>136,219.00</td>\n",
       "      <td>Year</td>\n",
       "    </tr>\n",
       "  </tbody>\n",
       "</table>\n",
       "</div>"
      ],
      "text/plain": [
       "       pw_amount_9089 pw_unit_of_pay_9089\n",
       "0             75629.0                  yr\n",
       "1             37024.0                  yr\n",
       "2             47923.0                  yr\n",
       "3               10.97                  hr\n",
       "4             94890.0                  yr\n",
       "374349      84,635.00                Year\n",
       "374350      69,098.00                Year\n",
       "374351     114,795.00                Year\n",
       "374352     112,354.00                Year\n",
       "374353     136,219.00                Year"
      ]
     },
     "execution_count": 10,
     "metadata": {},
     "output_type": "execute_result"
    }
   ],
   "source": [
    "df[['pw_amount_9089','pw_unit_of_pay_9089']].head(5).append(df[['pw_amount_9089','pw_unit_of_pay_9089']].tail(5))"
   ]
  },
  {
   "cell_type": "markdown",
   "metadata": {},
   "source": [
    "Remove commas from the values and convert to a floating point value.<br>\n",
    "The wages are hourly, weekly, bi-weekly and monthly values let us calculate the yearly equivalents to standardize the attribute values.<br>\n",
    "According to the https://www.opm.gov/policy-data-oversight/pay-leave/pay-administration/fact-sheets/computing-hourly-rates-of-pay-using-the-2087-hour-divisor/, the average number of working days in USA is 250 this information is useful for our calculations."
   ]
  },
  {
   "cell_type": "code",
   "execution_count": 38,
   "metadata": {},
   "outputs": [
    {
     "data": {
      "text/html": [
       "<div>\n",
       "<style scoped>\n",
       "    .dataframe tbody tr th:only-of-type {\n",
       "        vertical-align: middle;\n",
       "    }\n",
       "\n",
       "    .dataframe tbody tr th {\n",
       "        vertical-align: top;\n",
       "    }\n",
       "\n",
       "    .dataframe thead th {\n",
       "        text-align: right;\n",
       "    }\n",
       "</style>\n",
       "<table border=\"1\" class=\"dataframe\">\n",
       "  <thead>\n",
       "    <tr style=\"text-align: right;\">\n",
       "      <th></th>\n",
       "      <th>pw_amount_9089</th>\n",
       "      <th>pw_unit_of_pay_9089</th>\n",
       "    </tr>\n",
       "  </thead>\n",
       "  <tbody>\n",
       "    <tr>\n",
       "      <th>0</th>\n",
       "      <td>75629.0</td>\n",
       "      <td>Year</td>\n",
       "    </tr>\n",
       "    <tr>\n",
       "      <th>1</th>\n",
       "      <td>37024.0</td>\n",
       "      <td>Year</td>\n",
       "    </tr>\n",
       "    <tr>\n",
       "      <th>2</th>\n",
       "      <td>47923.0</td>\n",
       "      <td>Year</td>\n",
       "    </tr>\n",
       "    <tr>\n",
       "      <th>3</th>\n",
       "      <td>21940.0</td>\n",
       "      <td>Year</td>\n",
       "    </tr>\n",
       "    <tr>\n",
       "      <th>4</th>\n",
       "      <td>94890.0</td>\n",
       "      <td>Year</td>\n",
       "    </tr>\n",
       "    <tr>\n",
       "      <th>374349</th>\n",
       "      <td>84635.0</td>\n",
       "      <td>Year</td>\n",
       "    </tr>\n",
       "    <tr>\n",
       "      <th>374350</th>\n",
       "      <td>69098.0</td>\n",
       "      <td>Year</td>\n",
       "    </tr>\n",
       "    <tr>\n",
       "      <th>374351</th>\n",
       "      <td>114795.0</td>\n",
       "      <td>Year</td>\n",
       "    </tr>\n",
       "    <tr>\n",
       "      <th>374352</th>\n",
       "      <td>112354.0</td>\n",
       "      <td>Year</td>\n",
       "    </tr>\n",
       "    <tr>\n",
       "      <th>374353</th>\n",
       "      <td>136219.0</td>\n",
       "      <td>Year</td>\n",
       "    </tr>\n",
       "  </tbody>\n",
       "</table>\n",
       "</div>"
      ],
      "text/plain": [
       "        pw_amount_9089 pw_unit_of_pay_9089\n",
       "0              75629.0                Year\n",
       "1              37024.0                Year\n",
       "2              47923.0                Year\n",
       "3              21940.0                Year\n",
       "4              94890.0                Year\n",
       "374349         84635.0                Year\n",
       "374350         69098.0                Year\n",
       "374351        114795.0                Year\n",
       "374352        112354.0                Year\n",
       "374353        136219.0                Year"
      ]
     },
     "execution_count": 38,
     "metadata": {},
     "output_type": "execute_result"
    }
   ],
   "source": [
    "#Replacing commas with whitespace character\n",
    "df['pw_amount_9089'] = df['pw_amount_9089'].str.replace(\",\",\"\") \n",
    "\n",
    "for unit in df.pw_unit_of_pay_9089.unique():\n",
    "    if unit == \"hr\" or unit == \"Hour\":\n",
    "        df.loc[df['pw_unit_of_pay_9089'] == unit, 'pw_amount_9089'] = df['pw_amount_9089'].apply(lambda x: float(x) * 8 * 250)\n",
    "        df.loc[df['pw_unit_of_pay_9089'] == unit, 'pw_unit_of_pay_9089'] = df['pw_unit_of_pay_9089'].replace(to_replace = unit, value = \"Year\") \n",
    "    elif unit == \"wk\" or unit == \"Week\":\n",
    "        df.loc[df['pw_unit_of_pay_9089'] == unit, 'pw_amount_9089'] = df['pw_amount_9089'].apply(lambda x: float(x) * 50)\n",
    "        df.loc[df['pw_unit_of_pay_9089'] == unit, 'pw_unit_of_pay_9089'] = df['pw_unit_of_pay_9089'].replace(to_replace = unit, value = \"Year\")\n",
    "    elif unit == \"mth\" or unit == \"Month\":\n",
    "        df.loc[df['pw_unit_of_pay_9089'] == unit, 'pw_amount_9089'] = df['pw_amount_9089'].apply(lambda x: float(x) * 12)\n",
    "        df.loc[df['pw_unit_of_pay_9089'] == unit, 'pw_unit_of_pay_9089'] = df['pw_unit_of_pay_9089'].replace(to_replace = unit, value = \"Year\")\n",
    "    elif unit == \"bi\" or unit == \"Bi-Weekly\":  \n",
    "        df.loc[df['pw_unit_of_pay_9089'] == unit, 'pw_amount_9089'] = df['pw_amount_9089'].apply(lambda x: float(x) * 25)\n",
    "        df.loc[df['pw_unit_of_pay_9089'] == unit, 'pw_unit_of_pay_9089'] = df['pw_unit_of_pay_9089'].replace(to_replace = unit, value = \"Year\")\n",
    "    elif unit ==\"yr\":\n",
    "         df.loc[df['pw_unit_of_pay_9089'] == unit ,'pw_unit_of_pay_9089'] = df['pw_unit_of_pay_9089'].replace(to_replace = unit, value = \"Year\")\n",
    "    else:\n",
    "        continue\n",
    "        \n",
    "#Filling missing values with median \n",
    "df['pw_amount_9089']= df['pw_amount_9089'].fillna((df['pw_amount_9089'].median()))\n",
    "\n",
    "#Changing format from string to float\n",
    "df['pw_amount_9089'] = df.pw_amount_9089.astype(float)\n",
    "\n",
    "#Displaying 10 first values\n",
    "df[['pw_amount_9089','pw_unit_of_pay_9089']].head(5).append(df[['pw_amount_9089','pw_unit_of_pay_9089']].tail(5))"
   ]
  },
  {
   "cell_type": "code",
   "execution_count": 41,
   "metadata": {},
   "outputs": [
    {
     "name": "stdout",
     "output_type": "stream",
     "text": [
      "count      356168.00\n",
      "mean       469624.51\n",
      "std       7679620.28\n",
      "min             7.50\n",
      "25%         67808.00\n",
      "50%         86278.00\n",
      "75%        104790.00\n",
      "max     495748000.00\n",
      "Name: pw_amount_9089, dtype: float64\n"
     ]
    }
   ],
   "source": [
    "#Since describe(to get a summary of the attribute values) returned exponential values,converting it to floating \n",
    "#point values for better readbility\n",
    "with pd.option_context('float_format', '{:.2f}'.format): print(df.pw_amount_9089.describe())"
   ]
  },
  {
   "cell_type": "code",
   "execution_count": 42,
   "metadata": {},
   "outputs": [
    {
     "data": {
      "text/plain": [
       "0-30k        19810\n",
       "30-60k       47493\n",
       "60-90k      133050\n",
       "90-120k     112631\n",
       "120-150k     30532\n",
       "150-180k      7094\n",
       "180-210k      3801\n",
       "210-240k       604\n",
       "240-270k        29\n",
       "270k+         1123\n",
       "Name: remuneration, dtype: int64"
      ]
     },
     "execution_count": 42,
     "metadata": {},
     "output_type": "execute_result"
    }
   ],
   "source": [
    "#Dividing our continuous income values into some categories to facilitate their visualization\n",
    "df['remuneration'] = pd.cut(df['pw_amount_9089'], [0, 30000, 60000,90000,120000,150000,180000,210000,240000,270000,495748000], right=False, labels=[\"0-30k\", \"30-60k\",\"60-90k\",\"90-120k\",\"120-150k\",\"150-180k\",\"180-210k\",\"210-240k\",\"240-270k\",\"270k+\"])\n",
    "salary = df['remuneration'].value_counts()\n",
    "salary.iloc[np.argsort(salary.index)]"
   ]
  },
  {
   "cell_type": "markdown",
   "metadata": {},
   "source": [
    "**Handling Missing values**"
   ]
  },
  {
   "cell_type": "markdown",
   "metadata": {},
   "source": [
    "A standard and often very good approach is to replace the missing values with mean, median or mode.\n",
    "\n",
    "**Numerical NaNs**\n",
    "For numerical values replace missing entry with mean, and if there are some outliers try median (since it is much less sensitive to them).\n",
    "\n",
    "**Categorical NaNs**\n",
    "Categorical values can be a bit trickier, one should definitely pay attention to the model performance metrics before and after editing. The standard thing to do is to replace the missing entry with the most frequent one(mode)."
   ]
  },
  {
   "cell_type": "code",
   "execution_count": 43,
   "metadata": {},
   "outputs": [],
   "source": [
    "#Filling missing values in \"employer_state\" column with mode\n",
    "df['employer_state'] = df['employer_state'].fillna(df['employer_state'].mode()[0]);\n",
    "\n",
    "#Mapping from state name to abbreviation\n",
    "state_abbrevs = {\n",
    "    'Alabama': 'AL',\n",
    "    'Alaska': 'AK',\n",
    "    'Arizona': 'AZ',\n",
    "    'Arkansas': 'AR',\n",
    "    'California': 'CA',\n",
    "    'Colorado': 'CO',\n",
    "    'Connecticut': 'CT',\n",
    "    'Delaware': 'DE',\n",
    "    'Florida': 'FL',\n",
    "    'Georgia': 'GA',\n",
    "    'Hawaii': 'HI',\n",
    "    'Idaho': 'ID',\n",
    "    'Illinois': 'IL',\n",
    "    'Indiana': 'IN',\n",
    "    'Iowa': 'IA',\n",
    "    'Kansas': 'KS',\n",
    "    'Kentucky': 'KY',\n",
    "    'Louisiana': 'LA',\n",
    "    'Maine': 'ME',\n",
    "    'Maryland': 'MD',\n",
    "    'Massachusetts': 'MA',\n",
    "    'Michigan': 'MI',\n",
    "    'Minnesota': 'MN',\n",
    "    'Mississippi': 'MS',\n",
    "    'Missouri': 'MO',\n",
    "    'Montana': 'MT',\n",
    "    'Nebraska': 'NE',\n",
    "    'Nevada': 'NV',\n",
    "    'New Hampshire': 'NH',\n",
    "    'New Jersey': 'NJ',\n",
    "    'New Mexico': 'NM',\n",
    "    'New York': 'NY',\n",
    "    'North Carolina': 'NC',\n",
    "    'North Dakota': 'ND',\n",
    "    'Ohio': 'OH',\n",
    "    'Oklahoma': 'OK',\n",
    "    'Oregon': 'OR',\n",
    "    'Pennsylvania': 'PA',\n",
    "    'Rhode Island': 'RI',\n",
    "    'South Carolina': 'SC',\n",
    "    'South Dakota': 'SD',\n",
    "    'Tennessee': 'TN',\n",
    "    'Texas': 'TX',\n",
    "    'Utah': 'UT',\n",
    "    'Vermont': 'VT',\n",
    "    'Virginia': 'VA',\n",
    "    'Washington': 'WA',\n",
    "    'West Virginia': 'WV',\n",
    "    'Wisconsin': 'WI',\n",
    "    'Wyoming': 'WY',\n",
    "    'Northern Mariana Islands':'MP', \n",
    "    'Palau': 'PW', \n",
    "    'Puerto Rico': 'PR', \n",
    "    'Virgin Islands': 'VI', \n",
    "    'District of Columbia': 'DC'\n",
    "}\n",
    "\n",
    "#Capitalizing Keys\n",
    "us_state_abbrev = {k.upper(): v for k, v in state_abbrevs.items()}\n",
    "df['employer_state'].replace(us_state_abbrev, inplace=True)\n",
    "df.employer_state = df.employer_state.astype(str)\n",
    "\n",
    "\n",
    "df['pw_soc_code'] = df['pw_soc_code'].str.replace('.','')\n",
    "df['pw_soc_code'] = df['pw_soc_code'].str.replace('-','')\n",
    "df['pw_soc_code'] = df['pw_soc_code'].astype(str).str[0:6]\n",
    "df['pw_soc_code'].value_counts()\n",
    "\n",
    "#Finding \"nan\" values in \"pw_soc_code\" column and filling them with mode\n",
    "df.loc[df['pw_soc_code'] == \"nan\",'pw_soc_code'] = df['pw_soc_code'].mode()[0]\n",
    "\n",
    "#Finding \"None\" values in \"pw_soc_code\" column and filling them with mode\n",
    "df.loc[df['pw_soc_code'] == \"None\",'pw_soc_code'] = df['pw_soc_code'].mode()[0]\n",
    "\n",
    "#Changing type from string to int\n",
    "df['pw_soc_code'] = df['pw_soc_code'].astype(int)\n",
    "\n",
    "\n",
    "#Replacing missing values with mode\n",
    "df['class_of_admission']=df['class_of_admission'].fillna((df['class_of_admission'].mode()[0]))\n",
    "df['country_of_citizenship']=df['country_of_citizenship'].fillna((df['country_of_citizenship'].mode()[0]))\n",
    "df['employer_city']=df['employer_city'].fillna((df['employer_city'].mode()[0]))\n",
    "df['employer_name']=df['employer_name'].fillna((df['employer_name'].mode()[0]))\n",
    "df['employer_name']=df['employer_name'].astype(str).str.upper()\n",
    "df['pw_source_name_9089']=df['pw_source_name_9089'].fillna((df['pw_source_name_9089'].mode()[0]))\n",
    "df['remuneration']=df['remuneration'].fillna((df['remuneration'].mode()[0]))"
   ]
  },
  {
   "cell_type": "markdown",
   "metadata": {},
   "source": [
    "Lets get a bird's eye view of our tidy data"
   ]
  },
  {
   "cell_type": "code",
   "execution_count": 44,
   "metadata": {},
   "outputs": [
    {
     "name": "stdout",
     "output_type": "stream",
     "text": [
      "<class 'pandas.core.frame.DataFrame'>\n",
      "Int64Index: 356168 entries, 0 to 374353\n",
      "Columns: 154 entries, add_these_pw_job_title_9089 to remuneration\n",
      "dtypes: category(1), datetime64[ns](2), float64(11), int32(1), object(139)\n",
      "memory usage: 427.5+ MB\n"
     ]
    }
   ],
   "source": [
    "df.info()"
   ]
  },
  {
   "cell_type": "markdown",
   "metadata": {},
   "source": [
    "### Exploratory Data Analysis ###"
   ]
  },
  {
   "cell_type": "markdown",
   "metadata": {},
   "source": [
    "Let us visualize the processed data to gain some insight into the data."
   ]
  },
  {
   "cell_type": "markdown",
   "metadata": {},
   "source": [
    "**Number of applications submitted each year from 2012 to 2017.**"
   ]
  },
  {
   "cell_type": "code",
   "execution_count": 45,
   "metadata": {},
   "outputs": [
    {
     "data": {
      "text/plain": [
       "[Text(0, 0.5, 'Number of Visa applicatons'),\n",
       " Text(0.5, 0, 'Visa application year')]"
      ]
     },
     "execution_count": 45,
     "metadata": {},
     "output_type": "execute_result"
    },
    {
     "data": {
      "image/png": "[encoded data removed]",
      "text/plain": [
       "<Figure size 914.4x595.44 with 1 Axes>"
      ]
     },
     "metadata": {
      "needs_background": "light"
     },
     "output_type": "display_data"
    }
   ],
   "source": [
    "#Converting the date to contain just the year of application submission\n",
    "#Assigning Labels to Case Status\n",
    "df['year'] = df['decision_date'].dt.year\n",
    "\n",
    "#Setting plot parameters\n",
    "fig, ax = plt.subplots()\n",
    "fig.set_size_inches(12.7, 8.27)\n",
    "sns.set_context(rc={\"font.size\":12})\n",
    "sns.countplot(x=\"year\", hue=\"case_status\", data=df)\n",
    "ax.set(xlabel='Visa application year', ylabel='Number of Visa applicatons')"
   ]
  },
  {
   "cell_type": "markdown",
   "metadata": {},
   "source": [
    "It's interesting that while the number of possitively considered applications increases, the number of \"Denied\" ones seems to be similar from year 2013. As a next step, let's see, what where the most popular cities.\n",
    "\n",
    "Things still looking bright for us!\n",
    "\n",
    "**Fifteen most popular cities from which the applications were filed**"
   ]
  },
  {
   "cell_type": "code",
   "execution_count": 46,
   "metadata": {},
   "outputs": [
    {
     "data": {
      "text/plain": [
       "[Text(0, 0.5, 'Number of Visa applications'), Text(0.5, 0, 'Employer city')]"
      ]
     },
     "execution_count": 46,
     "metadata": {},
     "output_type": "execute_result"
    },
    {
     "data": {
      "image/png": "[encoded data removed]",
      "text/plain": [
       "<Figure size 986.4x595.44 with 1 Axes>"
      ]
     },
     "metadata": {
      "needs_background": "light"
     },
     "output_type": "display_data"
    }
   ],
   "source": [
    "# Displaying 15 most popular cities\n",
    "#df['employer_city'] = df['employer_city'].str.upper()\n",
    "#df['employer_city'].value_counts().head(15)\n",
    "\n",
    "# Setting plot parameters\n",
    "fig, ax = plt.subplots()\n",
    "fig.set_size_inches(13.7, 8.27)\n",
    "sns.set_context(\"paper\", rc={\"font.size\":12,\"axes.titlesize\":12,\"axes.labelsize\":12})\n",
    "sns.countplot(x='employer_city', hue='year', data=df, order=df.employer_city.value_counts().iloc[:10].index)\n",
    "plt.xticks(rotation=90)\n",
    "ax.set(xlabel='Employer city', ylabel='Number of Visa applications')"
   ]
  },
  {
   "cell_type": "markdown",
   "metadata": {},
   "source": [
    "**Number of visa applications based on country of citizenship**"
   ]
  },
  {
   "cell_type": "code",
   "execution_count": 47,
   "metadata": {},
   "outputs": [
    {
     "data": {
      "image/png": "[encoded data removed]",
      "text/plain": [
       "<Figure size 914.4x595.44 with 1 Axes>"
      ]
     },
     "metadata": {
      "needs_background": "light"
     },
     "output_type": "display_data"
    }
   ],
   "source": [
    "#Setting plot parameters\n",
    "fig, ax = plt.subplots()\n",
    "fig.set_size_inches(12.7, 8.27)\n",
    "sns.set_context(rc={\"font.size\":14, \"axes.labelsize\":12})\n",
    "sns.countplot(x='country_of_citizenship',hue='case_status',data=df,  \n",
    "              order=df.country_of_citizenship.value_counts().iloc[:7].index)\n",
    "plt.xticks(rotation=90)\n",
    "\n",
    "#Iterating over elements in \"country_of_citizenship\" column and displaying counts above bars \n",
    "for i, v in df.country_of_citizenship.value_counts().head(7).reset_index().iterrows():\n",
    "    ax.text(i,v.country_of_citizenship,v.unique()[1], horizontalalignment='right',verticalalignment='bottom')\n",
    "\n"
   ]
  },
  {
   "cell_type": "markdown",
   "metadata": {},
   "source": [
    "**Employers who have the most number of applications filed**"
   ]
  },
  {
   "cell_type": "code",
   "execution_count": 48,
   "metadata": {},
   "outputs": [
    {
     "data": {
      "text/plain": [
       "[Text(0, 0.5, 'Number of Visa applications'), Text(0.5, 0, 'Employer name')]"
      ]
     },
     "execution_count": 48,
     "metadata": {},
     "output_type": "execute_result"
    },
    {
     "data": {
      "image/png": "[encoded data removed]",
      "text/plain": [
       "<Figure size 914.4x595.44 with 1 Axes>"
      ]
     },
     "metadata": {
      "needs_background": "light"
     },
     "output_type": "display_data"
    }
   ],
   "source": [
    "#Setting plot parameters\n",
    "fig, ax = plt.subplots()\n",
    "fig.set_size_inches(12.7, 8.27)\n",
    "sns.set_context(rc={\"font.size\":12,\"axes.labelsize\":13})\n",
    "sns.countplot(x='employer_name', data=df, order=df.employer_name.value_counts().iloc[:10].index)\n",
    "plt.xticks(rotation=90)\n",
    "\n",
    "#Iterating over elements in \"employer_name\" column and displaying counts above bars \n",
    "for i, v in df.employer_name.value_counts().head(10).reset_index().iterrows():\n",
    "    ax.text(i,v.employer_name,v.unique()[1], horizontalalignment='center',verticalalignment='bottom')\n",
    "    \n",
    "ax.set(xlabel='Employer name', ylabel='Number of Visa applications')"
   ]
  },
  {
   "cell_type": "markdown",
   "metadata": {},
   "source": [
    "**Number of visa applications based on class of admission into Uinted States**"
   ]
  },
  {
   "cell_type": "code",
   "execution_count": 49,
   "metadata": {},
   "outputs": [
    {
     "data": {
      "image/png": "[encoded data removed]",
      "text/plain": [
       "<Figure size 914.4x595.44 with 1 Axes>"
      ]
     },
     "metadata": {
      "needs_background": "light"
     },
     "output_type": "display_data"
    }
   ],
   "source": [
    "#Setting plot parameters\n",
    "fig, ax = plt.subplots()\n",
    "fig.set_size_inches(12.7, 8.27)\n",
    "sns.countplot(x='class_of_admission',data=df, \n",
    "              order=df.class_of_admission.value_counts().iloc[:10].index)\n",
    "plt.xticks(rotation=90)\n",
    "\n",
    "#Iterating over elements in \"class_of_admission\" column and displaying counts above bars \n",
    "for i, v in df.class_of_admission.value_counts().head(10).reset_index().iterrows():\n",
    "    ax.text(i,v.class_of_admission,v.unique()[1], horizontalalignment='center',verticalalignment='bottom')\n",
    "    "
   ]
  },
  {
   "cell_type": "markdown",
   "metadata": {},
   "source": [
    "**Number of applications filed under each economic sector**"
   ]
  },
  {
   "cell_type": "code",
   "execution_count": 50,
   "metadata": {},
   "outputs": [],
   "source": [
    "#Creating empty dictionary\n",
    "us_economic_counts = {}\n",
    "\n",
    "#Iterating over \"us_economic_sector\" column and appending values to the \"us_economic_counts\" dictionary\n",
    "for value in df['us_economic_sector'].dropna():\n",
    "    if value in us_economic_counts:\n",
    "        us_economic_counts[value] += 1\n",
    "    else:\n",
    "        us_economic_counts[value] = 1"
   ]
  },
  {
   "cell_type": "code",
   "execution_count": 51,
   "metadata": {},
   "outputs": [
    {
     "data": {
      "text/plain": [
       "([<matplotlib.patches.Wedge at 0x278892c8d30>,\n",
       "  <matplotlib.patches.Wedge at 0x278892c04a8>,\n",
       "  <matplotlib.patches.Wedge at 0x278892c0ba8>,\n",
       "  <matplotlib.patches.Wedge at 0x278892b62e8>,\n",
       "  <matplotlib.patches.Wedge at 0x278892b69e8>,\n",
       "  <matplotlib.patches.Wedge at 0x27889200128>,\n",
       "  <matplotlib.patches.Wedge at 0x27889200828>,\n",
       "  <matplotlib.patches.Wedge at 0x27889200f28>,\n",
       "  <matplotlib.patches.Wedge at 0x278891f6668>,\n",
       "  <matplotlib.patches.Wedge at 0x278891f6d68>],\n",
       " [Text(-0.8119143783551594, -0.7197360920644142, 'IT'),\n",
       "  Text(0.884195188218691, -0.5663028069248055, 'Other Economic Sector'),\n",
       "  Text(1.0494163573953816, -0.035004411593524826, 'Aerospace'),\n",
       "  Text(0.8737715453583406, 0.5822570622346264, 'Advanced Mfg'),\n",
       "  Text(0.2371273511762825, 1.0228737064389328, 'Educational Services'),\n",
       "  Text(-0.14734319105720087, 1.0396104963153658, 'Retail'),\n",
       "  Text(-0.31051630896984056, 1.0030352046980937, 'Construction'),\n",
       "  Text(-0.3984061894090864, 0.971479545971263, 'Hospitality'),\n",
       "  Text(-0.4769178655021029, 0.9354407247735788, 'Automotive'),\n",
       "  Text(-0.6665151122050968, 0.8113307618981468, 'Health Care')],\n",
       " [Text(-0.6996681509327872, -0.620233406525555, '45.3%'),\n",
       "  Text(0.7578815899017352, -0.4854024059355476, '13.5%'),\n",
       "  Text(0.899499734910327, -0.030003781365878418, '3.6%'),\n",
       "  Text(0.7489470388785776, 0.499077481915394, '16.2%'),\n",
       "  Text(0.20325201529395642, 0.876748891233371, '7.9%'),\n",
       "  Text(-0.12629416376331504, 0.8910947111274564, '3.9%'),\n",
       "  Text(-0.26615683625986336, 0.8597444611697945, '1.2%'),\n",
       "  Text(-0.34149101949350263, 0.8326967536896539, '1.6%'),\n",
       "  Text(-0.40878674185894537, 0.8018063355202103, '1.0%'),\n",
       "  Text(-0.5712986676043686, 0.6954263673412686, '5.9%')])"
      ]
     },
     "execution_count": 51,
     "metadata": {},
     "output_type": "execute_result"
    },
    {
     "data": {
      "image/png": "[encoded data removed]",
      "text/plain": [
       "<Figure size 936x936 with 1 Axes>"
      ]
     },
     "metadata": {},
     "output_type": "display_data"
    }
   ],
   "source": [
    "#Creating lists for us economic sectors and their counts\n",
    "usecolabels = []\n",
    "usecovalues = []\n",
    "explode = (0.035, 0, 0, 0,0,0,0,0,0,0)\n",
    "\n",
    "for key, value in us_economic_counts.items():\n",
    "    usecolabels.append(key)\n",
    "    usecovalues.append(value)\n",
    "    \n",
    "#Setting plot parameters\n",
    "plt.figure(figsize=(13,13))    \n",
    "sns.set_context(rc={\"font.size\":10,\"axes.labelsize\":11,\"xtick.labelsize\" : 11})\n",
    "plt.pie(usecovalues[:10], labels=usecolabels[:10], explode = explode, autopct='%1.1f%%', pctdistance = 0.9,\n",
    "          rotatelabels = 90, startangle=140, labeldistance = 1.05) "
   ]
  },
  {
   "cell_type": "markdown",
   "metadata": {},
   "source": [
    "**Number of Visa applications filed based on job titles**"
   ]
  },
  {
   "cell_type": "code",
   "execution_count": 52,
   "metadata": {},
   "outputs": [
    {
     "data": {
      "text/plain": [
       "Software Engineer                   14372\n",
       "Computer Systems Analyst - V         4747\n",
       "Senior Software Engineer             3801\n",
       "Computer Systems Analyst - II        3416\n",
       "Software Developer                   2880\n",
       "Assistant Professor                  2604\n",
       "Programmer Analyst                   2534\n",
       "Computer Systems Analyst - IV        2496\n",
       "Systems Analyst                      2034\n",
       "Software Development Engineer II     1630\n",
       "Poultry Processing Worker            1594\n",
       "Component Design Engineer            1064\n",
       "Poultry Processor                    1037\n",
       "Business Analyst                      963\n",
       "software engineer                     932\n",
       "SOFTWARE ENGINEER                     877\n",
       "Senior Programmer Analyst             862\n",
       "Sr. Software Engineer                 847\n",
       "Senior Software Developer             817\n",
       "Commercial Cleaner                    802\n",
       "Name: job_info_job_title, dtype: int64"
      ]
     },
     "execution_count": 52,
     "metadata": {},
     "output_type": "execute_result"
    }
   ],
   "source": [
    "df['job_info_job_title'].value_counts()[:20]"
   ]
  },
  {
   "cell_type": "markdown",
   "metadata": {},
   "source": [
    "Since job titles contain multiple casing let us standardize them so that value_counts() gives the appropriate values."
   ]
  },
  {
   "cell_type": "code",
   "execution_count": 53,
   "metadata": {},
   "outputs": [
    {
     "data": {
      "text/plain": [
       "software engineer                18582\n",
       "computer systems analyst         12054\n",
       "senior software engineer          5802\n",
       "software developer                4501\n",
       "programmer analyst                3763\n",
       "assistant professor               2869\n",
       "software development engineer     2766\n",
       "systems analyst                   2587\n",
       "senior programmer analyst         1884\n",
       "senior software developer         1625\n",
       "Name: job_info_job_title, dtype: int64"
      ]
     },
     "execution_count": 53,
     "metadata": {},
     "output_type": "execute_result"
    }
   ],
   "source": [
    "#Converting values to lower case\n",
    "df['job_info_job_title'] = df['job_info_job_title'].str.lower()\n",
    "\n",
    "#Splitting job titles by '-'\n",
    "df['job_info_job_title'] = df['job_info_job_title'].astype(str).str.split('-').str[0]\n",
    "#Splitting job titles by 'ii'\n",
    "df['job_info_job_title'] = df['job_info_job_title'].astype(str).str.split('ii').str[0]\n",
    "#Splitting job titles by '/'\n",
    "df['job_info_job_title'] = df['job_info_job_title'].astype(str).str.split('/').str[0]\n",
    "#Removing leading and ending spaces\n",
    "df['job_info_job_title'] = df['job_info_job_title'].astype(str).str.strip()\n",
    "#Replacing \"sr.\" values with \"senior\"\n",
    "df['job_info_job_title'] = df['job_info_job_title'].str.replace('sr.', 'senior')\n",
    "#Replacing \"NaN\", \"NaT\" and \"nan\" values with np.nan\n",
    "df['job_info_job_title'].replace([\"NaN\", 'NaT','nan'], np.nan, inplace = True)\n",
    "\n",
    "\n",
    "df['job_info_job_title'].value_counts(dropna=True)[:10]"
   ]
  },
  {
   "cell_type": "code",
   "execution_count": 54,
   "metadata": {},
   "outputs": [
    {
     "data": {
      "text/plain": [
       "[Text(0, 0.5, 'Number of Visa applications'), Text(0.5, 0, 'Job Title')]"
      ]
     },
     "execution_count": 54,
     "metadata": {},
     "output_type": "execute_result"
    },
    {
     "data": {
      "image/png": "[encoded data removed]",
      "text/plain": [
       "<Figure size 914.4x595.44 with 1 Axes>"
      ]
     },
     "metadata": {
      "needs_background": "light"
     },
     "output_type": "display_data"
    }
   ],
   "source": [
    "#Setting plot parameters\n",
    "fig, ax = plt.subplots()\n",
    "fig.set_size_inches(12.7, 8.27)\n",
    " #sns.set_context(rc={\"font.size\":14, \"axes.labelsize\":12})\n",
    "sns.countplot(x='job_info_job_title',data=df, \n",
    "               palette = sns.diverging_palette(255, 133, l=60, n=10, center=\"dark\"), \n",
    "               order=df.job_info_job_title.value_counts().iloc[:10].index)\n",
    "plt.xticks(rotation=90)\n",
    "\n",
    "#Iterating over elements in \"job_info_job_title\" column and displaying counts above bars \n",
    "for i, v in df.job_info_job_title.value_counts().head(10).reset_index().iterrows():\n",
    "    ax.text(i,v.job_info_job_title,v.unique()[1], horizontalalignment='center',verticalalignment='bottom')\n",
    "\n",
    "#Setting label titles    \n",
    "ax.set(xlabel='Job Title', ylabel='Number of Visa applications')"
   ]
  },
  {
   "cell_type": "markdown",
   "metadata": {},
   "source": [
    "**Further data processing to aid in our analsysis**"
   ]
  },
  {
   "cell_type": "markdown",
   "metadata": {},
   "source": [
    "**Get the percentage of not null values in our dataset**"
   ]
  },
  {
   "cell_type": "code",
   "execution_count": 56,
   "metadata": {},
   "outputs": [
    {
     "name": "stdout",
     "output_type": "stream",
     "text": [
      "0 Column: 'add_these_pw_job_title_9089' contains  10.99 % non-null values\n",
      "1 Column: 'agent_city' contains  56.92 % non-null values\n",
      "2 Column: 'agent_firm_name' contains  55.74 % non-null values\n",
      "3 Column: 'agent_state' contains  56.05 % non-null values\n",
      "4 Column: 'application_type' contains  35.61 % non-null values\n",
      "5 Column: 'case_received_date' contains  64.39 % non-null values\n",
      "6 Column: 'case_status' contains  100.0 % non-null values\n",
      "7 Column: 'class_of_admission' contains  100.0 % non-null values\n",
      "8 Column: 'country_of_citizenship' contains  100.0 % non-null values\n",
      "9 Column: 'country_of_citzenship' contains  5.4 % non-null values\n",
      "10 Column: 'decision_date' contains  100.0 % non-null values\n",
      "11 Column: 'employer_address_1' contains  99.99 % non-null values\n",
      "12 Column: 'employer_address_2' contains  60.4 % non-null values\n",
      "13 Column: 'employer_city' contains  100.0 % non-null values\n",
      "14 Column: 'employer_country' contains  64.37 % non-null values\n",
      "15 Column: 'employer_decl_info_title' contains  64.37 % non-null values\n",
      "16 Column: 'employer_name' contains  100.0 % non-null values\n",
      "17 Column: 'employer_num_employees' contains  64.36 % non-null values\n",
      "18 Column: 'employer_phone' contains  64.38 % non-null values\n",
      "19 Column: 'employer_phone_ext' contains  6.32 % non-null values\n",
      "20 Column: 'employer_postal_code' contains  99.99 % non-null values\n",
      "21 Column: 'employer_state' contains  100.0 % non-null values\n",
      "22 Column: 'employer_yr_estab' contains  64.35 % non-null values\n",
      "23 Column: 'foreign_worker_info_alt_edu_experience' contains  23.66 % non-null values\n",
      "24 Column: 'foreign_worker_info_birth_country' contains  23.67 % non-null values\n",
      "25 Column: 'foreign_worker_info_city' contains  64.38 % non-null values\n",
      "26 Column: 'foreign_worker_info_education' contains  64.37 % non-null values\n",
      "27 Column: 'foreign_worker_info_education_other' contains  1.05 % non-null values\n",
      "28 Column: 'foreign_worker_info_inst' contains  59.6 % non-null values\n",
      "29 Column: 'foreign_worker_info_major' contains  59.35 % non-null values\n",
      "30 Column: 'foreign_worker_info_postal_code' contains  22.95 % non-null values\n",
      "31 Column: 'foreign_worker_info_rel_occup_exp' contains  23.67 % non-null values\n",
      "32 Column: 'foreign_worker_info_req_experience' contains  23.67 % non-null values\n",
      "33 Column: 'foreign_worker_info_state' contains  60.01 % non-null values\n",
      "34 Column: 'foreign_worker_info_training_comp' contains  23.67 % non-null values\n",
      "35 Column: 'foreign_worker_ownership_interest' contains  23.67 % non-null values\n",
      "36 Column: 'foreign_worker_yr_rel_edu_completed' contains  22.3 % non-null values\n",
      "37 Column: 'fw_info_alt_edu_experience' contains  40.72 % non-null values\n",
      "38 Column: 'fw_info_birth_country' contains  40.71 % non-null values\n",
      "39 Column: 'fw_info_education_other' contains  40.6 % non-null values\n",
      "40 Column: 'fw_info_postal_code' contains  40.12 % non-null values\n",
      "41 Column: 'fw_info_rel_occup_exp' contains  40.71 % non-null values\n",
      "42 Column: 'fw_info_req_experience' contains  40.72 % non-null values\n",
      "43 Column: 'fw_info_training_comp' contains  40.71 % non-null values\n",
      "44 Column: 'fw_info_yr_rel_edu_completed' contains  37.35 % non-null values\n",
      "45 Column: 'fw_ownership_interest' contains  40.72 % non-null values\n",
      "46 Column: 'ji_foreign_worker_live_on_premises' contains  23.67 % non-null values\n",
      "47 Column: 'ji_fw_live_on_premises' contains  40.72 % non-null values\n",
      "48 Column: 'ji_live_in_dom_svc_contract' contains  0.65 % non-null values\n",
      "49 Column: 'ji_live_in_domestic_service' contains  64.38 % non-null values\n",
      "50 Column: 'ji_offered_to_sec_j_foreign_worker' contains  23.67 % non-null values\n",
      "51 Column: 'ji_offered_to_sec_j_fw' contains  40.72 % non-null values\n",
      "52 Column: 'job_info_alt_cmb_ed_oth_yrs' contains  19.07 % non-null values\n",
      "53 Column: 'job_info_alt_combo_ed' contains  19.16 % non-null values\n",
      "54 Column: 'job_info_alt_combo_ed_exp' contains  64.38 % non-null values\n",
      "55 Column: 'job_info_alt_combo_ed_other' contains  2.52 % non-null values\n",
      "56 Column: 'job_info_alt_field' contains  64.38 % non-null values\n",
      "57 Column: 'job_info_alt_field_name' contains  25.34 % non-null values\n",
      "58 Column: 'job_info_alt_occ' contains  40.15 % non-null values\n",
      "59 Column: 'job_info_alt_occ_job_title' contains  39.96 % non-null values\n",
      "60 Column: 'job_info_alt_occ_num_months' contains  39.9 % non-null values\n",
      "61 Column: 'job_info_combo_occupation' contains  64.38 % non-null values\n",
      "62 Column: 'job_info_education' contains  64.38 % non-null values\n",
      "63 Column: 'job_info_education_other' contains  2.09 % non-null values\n",
      "64 Column: 'job_info_experience' contains  64.38 % non-null values\n",
      "65 Column: 'job_info_experience_num_months' contains  36.2 % non-null values\n",
      "66 Column: 'job_info_foreign_ed' contains  64.32 % non-null values\n",
      "67 Column: 'job_info_foreign_lang_req' contains  64.38 % non-null values\n",
      "68 Column: 'job_info_job_req_normal' contains  64.38 % non-null values\n",
      "69 Column: 'job_info_job_title' contains  64.37 % non-null values\n",
      "70 Column: 'job_info_major' contains  57.58 % non-null values\n",
      "71 Column: 'job_info_training' contains  64.38 % non-null values\n",
      "72 Column: 'job_info_training_field' contains  1.2 % non-null values\n",
      "73 Column: 'job_info_training_num_months' contains  1.28 % non-null values\n",
      "74 Column: 'job_info_work_city' contains  99.97 % non-null values\n",
      "75 Column: 'job_info_work_postal_code' contains  64.36 % non-null values\n",
      "76 Column: 'job_info_work_state' contains  99.97 % non-null values\n",
      "77 Column: 'naics_2007_us_code' contains  5.38 % non-null values\n",
      "78 Column: 'naics_2007_us_title' contains  5.21 % non-null values\n",
      "79 Column: 'naics_code' contains  23.61 % non-null values\n",
      "80 Column: 'naics_title' contains  23.61 % non-null values\n",
      "81 Column: 'naics_us_code' contains  40.63 % non-null values\n",
      "82 Column: 'naics_us_code_2007' contains  30.11 % non-null values\n",
      "83 Column: 'naics_us_title' contains  40.63 % non-null values\n",
      "84 Column: 'naics_us_title_2007' contains  29.28 % non-null values\n",
      "85 Column: 'orig_case_no' contains  0.08 % non-null values\n",
      "86 Column: 'orig_file_date' contains  0.07 % non-null values\n",
      "87 Column: 'preparer_info_emp_completed' contains  64.37 % non-null values\n",
      "88 Column: 'preparer_info_title' contains  56.59 % non-null values\n",
      "89 Column: 'pw_amount_9089' contains  100.0 % non-null values\n",
      "90 Column: 'pw_determ_date' contains  64.3 % non-null values\n",
      "91 Column: 'pw_expire_date' contains  64.28 % non-null values\n",
      "92 Column: 'pw_job_title_908' contains  40.7 % non-null values\n",
      "93 Column: 'pw_job_title_9089' contains  59.2 % non-null values\n",
      "94 Column: 'pw_level_9089' contains  92.54 % non-null values\n",
      "95 Column: 'pw_soc_code' contains  100.0 % non-null values\n",
      "96 Column: 'pw_soc_title' contains  99.35 % non-null values\n",
      "97 Column: 'pw_source_name_9089' contains  100.0 % non-null values\n",
      "98 Column: 'pw_source_name_other_9089' contains  4.28 % non-null values\n",
      "99 Column: 'pw_track_num' contains  63.87 % non-null values\n",
      "100 Column: 'pw_unit_of_pay_9089' contains  99.58 % non-null values\n",
      "101 Column: 'rec_info_barg_rep_notified' contains  23.65 % non-null values\n",
      "102 Column: 'recr_info_barg_rep_notified' contains  40.71 % non-null values\n",
      "103 Column: 'recr_info_coll_teach_comp_proc' contains  1.91 % non-null values\n",
      "104 Column: 'recr_info_coll_univ_teacher' contains  64.38 % non-null values\n",
      "105 Column: 'recr_info_employer_rec_payment' contains  64.38 % non-null values\n",
      "106 Column: 'recr_info_first_ad_start' contains  62.71 % non-null values\n",
      "107 Column: 'recr_info_job_fair_from' contains  0.48 % non-null values\n",
      "108 Column: 'recr_info_job_fair_to' contains  0.48 % non-null values\n",
      "109 Column: 'recr_info_on_campus_recr_from' contains  0.5 % non-null values\n",
      "110 Column: 'recr_info_on_campus_recr_to' contains  0.49 % non-null values\n",
      "111 Column: 'recr_info_pro_org_advert_from' contains  3.73 % non-null values\n",
      "112 Column: 'recr_info_pro_org_advert_to' contains  3.73 % non-null values\n",
      "113 Column: 'recr_info_prof_org_advert_from' contains  7.69 % non-null values\n",
      "114 Column: 'recr_info_prof_org_advert_to' contains  7.69 % non-null values\n",
      "115 Column: 'recr_info_professional_occ' contains  64.38 % non-null values\n",
      "116 Column: 'recr_info_radio_tv_ad_from' contains  5.48 % non-null values\n",
      "117 Column: 'recr_info_radio_tv_ad_to' contains  5.48 % non-null values\n",
      "118 Column: 'recr_info_second_ad_start' contains  62.7 % non-null values\n",
      "119 Column: 'recr_info_sunday_newspaper' contains  62.74 % non-null values\n",
      "120 Column: 'recr_info_swa_job_order_end' contains  62.7 % non-null values\n",
      "121 Column: 'recr_info_swa_job_order_start' contains  62.71 % non-null values\n",
      "122 Column: 'refile' contains  30.41 % non-null values\n",
      "123 Column: 'ri_1st_ad_newspaper_name' contains  63.75 % non-null values\n"
     ]
    },
    {
     "name": "stdout",
     "output_type": "stream",
     "text": [
      "124 Column: 'ri_2nd_ad_newspaper_name' contains  63.74 % non-null values\n",
      "125 Column: 'ri_2nd_ad_newspaper_or_journal' contains  62.71 % non-null values\n",
      "126 Column: 'ri_campus_placement_from' contains  8.08 % non-null values\n",
      "127 Column: 'ri_campus_placement_to' contains  8.08 % non-null values\n",
      "128 Column: 'ri_coll_tch_basic_process' contains  1.91 % non-null values\n",
      "129 Column: 'ri_coll_teach_pro_jnl' contains  41.29 % non-null values\n",
      "130 Column: 'ri_coll_teach_select_date' contains  1.56 % non-null values\n",
      "131 Column: 'ri_employee_referral_prog_from' contains  18.62 % non-null values\n",
      "132 Column: 'ri_employee_referral_prog_to' contains  18.62 % non-null values\n",
      "133 Column: 'ri_employer_web_post_from' contains  37.03 % non-null values\n",
      "134 Column: 'ri_employer_web_post_to' contains  37.02 % non-null values\n",
      "135 Column: 'ri_job_search_website_from' contains  53.29 % non-null values\n",
      "136 Column: 'ri_job_search_website_to' contains  53.28 % non-null values\n",
      "137 Column: 'ri_layoff_in_past_six_months' contains  64.38 % non-null values\n",
      "138 Column: 'ri_local_ethnic_paper_from' contains  32.66 % non-null values\n",
      "139 Column: 'ri_local_ethnic_paper_to' contains  32.66 % non-null values\n",
      "140 Column: 'ri_posted_notice_at_worksite' contains  64.36 % non-null values\n",
      "141 Column: 'ri_pvt_employment_firm_from' contains  4.53 % non-null values\n",
      "142 Column: 'ri_pvt_employment_firm_to' contains  4.52 % non-null values\n",
      "143 Column: 'ri_us_workers_considered' contains  4.65 % non-null values\n",
      "144 Column: 'schd_a_sheepherder' contains  64.38 % non-null values\n",
      "145 Column: 'us_economic_sector' contains  33.94 % non-null values\n",
      "146 Column: 'wage_offer_from_9089' contains  69.76 % non-null values\n",
      "147 Column: 'wage_offer_to_9089' contains  19.87 % non-null values\n",
      "148 Column: 'wage_offer_unit_of_pay_9089' contains  69.46 % non-null values\n",
      "149 Column: 'wage_offered_from_9089' contains  30.21 % non-null values\n",
      "150 Column: 'wage_offered_to_9089' contains  8.23 % non-null values\n",
      "151 Column: 'wage_offered_unit_of_pay_9089' contains  18.73 % non-null values\n",
      "152 Column: 'casenumber' contains  100.0 % non-null values\n",
      "153 Column: 'remuneration' contains  100.0 % non-null values\n",
      "154 Column: 'year' contains  100.0 % non-null values\n"
     ]
    }
   ],
   "source": [
    "#Displaying percentage of non-null values for each feature\n",
    "i = 0;\n",
    "for col in df.columns:\n",
    "    i = i+1;\n",
    "    print (i-1,\"Column: '{}'\".format(col),\"contains \", np.round(100*df[col].count()/len(df['case_status']),decimals=2),\"% non-null values\" )"
   ]
  },
  {
   "cell_type": "code",
   "execution_count": 57,
   "metadata": {},
   "outputs": [
    {
     "name": "stdout",
     "output_type": "stream",
     "text": [
      "<class 'pandas.core.frame.DataFrame'>\n",
      "Int64Index: 356168 entries, 0 to 374353\n",
      "Data columns (total 19 columns):\n",
      "case_status               356168 non-null object\n",
      "class_of_admission        356168 non-null object\n",
      "country_of_citizenship    356168 non-null object\n",
      "decision_date             356168 non-null datetime64[ns]\n",
      "employer_address_1        356131 non-null object\n",
      "employer_city             356168 non-null object\n",
      "employer_name             356168 non-null object\n",
      "employer_postal_code      356135 non-null object\n",
      "employer_state            356168 non-null object\n",
      "job_info_work_city        356073 non-null object\n",
      "job_info_work_state       356072 non-null object\n",
      "pw_amount_9089            356168 non-null float64\n",
      "pw_soc_code               356168 non-null int32\n",
      "pw_soc_title              353847 non-null object\n",
      "pw_source_name_9089       356168 non-null object\n",
      "pw_unit_of_pay_9089       354687 non-null object\n",
      "casenumber                356168 non-null object\n",
      "remuneration              356168 non-null category\n",
      "year                      356168 non-null int64\n",
      "dtypes: category(1), datetime64[ns](1), float64(1), int32(1), int64(1), object(14)\n",
      "memory usage: 60.6+ MB\n"
     ]
    }
   ],
   "source": [
    "#Leaving columns which have more than 330000 non-missing observations\n",
    "df = df.loc[:,df.count() >= 330000]\n",
    "df.info()"
   ]
  },
  {
   "cell_type": "markdown",
   "metadata": {},
   "source": [
    "### Model Building ###"
   ]
  },
  {
   "cell_type": "markdown",
   "metadata": {},
   "source": [
    "**Feature Selection**"
   ]
  },
  {
   "cell_type": "code",
   "execution_count": 58,
   "metadata": {},
   "outputs": [],
   "source": [
    "#Assigning Labels to Case Status\n",
    "df.loc[df.case_status == 'Certified', 'case_status'] = 1\n",
    "df.loc[df.case_status == 'Denied', 'case_status'] = 0\n",
    "df['case_status'] = df['case_status'].astype(int)"
   ]
  },
  {
   "cell_type": "code",
   "execution_count": 60,
   "metadata": {},
   "outputs": [
    {
     "name": "stdout",
     "output_type": "stream",
     "text": [
      "<class 'pandas.core.frame.DataFrame'>\n",
      "Int64Index: 356168 entries, 0 to 374353\n",
      "Data columns (total 10 columns):\n",
      "case_status               356168 non-null int32\n",
      "class_of_admission        356168 non-null object\n",
      "country_of_citizenship    356168 non-null object\n",
      "employer_city             356168 non-null object\n",
      "employer_name             356168 non-null object\n",
      "employer_state            356168 non-null object\n",
      "pw_soc_code               356168 non-null int32\n",
      "pw_source_name_9089       356168 non-null object\n",
      "remuneration              356168 non-null category\n",
      "year                      356168 non-null int64\n",
      "dtypes: category(1), int32(2), int64(1), object(6)\n",
      "memory usage: 34.8+ MB\n"
     ]
    }
   ],
   "source": [
    "df.info()"
   ]
  },
  {
   "cell_type": "markdown",
   "metadata": {},
   "source": [
    "**Data type conversion**<br>\n",
    "In this step we're going to turn our feature variables into categories."
   ]
  },
  {
   "cell_type": "code",
   "execution_count": 64,
   "metadata": {},
   "outputs": [
    {
     "name": "stdout",
     "output_type": "stream",
     "text": [
      "<class 'pandas.core.frame.DataFrame'>\n",
      "Int64Index: 356168 entries, 0 to 374353\n",
      "Data columns (total 10 columns):\n",
      "case_status               356168 non-null int64\n",
      "class_of_admission        356168 non-null int32\n",
      "country_of_citizenship    356168 non-null int32\n",
      "employer_city             356168 non-null int32\n",
      "employer_name             356168 non-null int32\n",
      "employer_state            356168 non-null int32\n",
      "pw_soc_code               356168 non-null int64\n",
      "pw_source_name_9089       356168 non-null int32\n",
      "remuneration              356168 non-null int32\n",
      "year                      356168 non-null int64\n",
      "dtypes: int32(7), int64(3)\n",
      "memory usage: 30.4 MB\n"
     ]
    }
   ],
   "source": [
    "from sklearn.preprocessing import LabelEncoder\n",
    "categorical_variables = {}\n",
    "\n",
    "#Creating categories denoted by integers from column values\n",
    "for col in df.columns:\n",
    "    cat_var_name = \"cat_\"+ col\n",
    "    cat_var_name = LabelEncoder()\n",
    "    cat_var_name.fit(df[col])\n",
    "    df[col] = cat_var_name.transform(df[col])    \n",
    "    categorical_variables[col] = cat_var_name\n",
    "\n",
    "df.info()"
   ]
  },
  {
   "cell_type": "markdown",
   "metadata": {},
   "source": [
    "**Apply Machine Learning Algorithms**"
   ]
  },
  {
   "cell_type": "markdown",
   "metadata": {},
   "source": [
    "Now we will divide our final dataset into 2 dataframes. \n",
    "\n",
    "- First one will consist of feature variables and the second one only of our target variable - case_status. \n",
    "\n",
    "- Afterward we will use GridSearch object with cross-validation to find the best parameters for Logistic Regression, k-Nearest Neighbor, Random Forest and Gradient Boosting Classifiers and evaluate how well they will generalize. \n",
    "\n",
    "- Cross validation will split the data repeatedly using Stratified K-Folds cross-validator and train multiple models."
   ]
  },
  {
   "cell_type": "code",
   "execution_count": 65,
   "metadata": {},
   "outputs": [
    {
     "name": "stdout",
     "output_type": "stream",
     "text": [
      "The shape of X is: (356168, 9)\n",
      "The shape of y is: (356168,)\n"
     ]
    }
   ],
   "source": [
    "#Dividing our final dataset into features(explanatory variables) and labels(target variable)\n",
    "X = df.loc[:, df.columns != 'case_status']\n",
    "y = df.case_status\n",
    "\n",
    "print(\"The shape of X is: {}\".format(X.shape))\n",
    "print(\"The shape of y is: {}\".format(y.shape))"
   ]
  },
  {
   "cell_type": "markdown",
   "metadata": {},
   "source": [
    "**Logistic Regression**\n",
    "\n",
    "Logistic regression is used to describe data and to explain the relationship between one dependent binary variable and one or more nominal, ordinal, interval or ratio-level independent variables."
   ]
  },
  {
   "cell_type": "code",
   "execution_count": 66,
   "metadata": {},
   "outputs": [],
   "source": [
    "#Importing Logistic Regression Classifier, GridSearchCV, train_test_split and accuracy metrics from sklearn\n",
    "from sklearn.linear_model import LogisticRegression\n",
    "from sklearn.model_selection import GridSearchCV\n",
    "from sklearn.model_selection import train_test_split\n",
    "from sklearn.metrics import precision_score, recall_score, f1_score, confusion_matrix\n",
    "\n",
    "#Defining fit_algorithm function\n",
    "def fit_algorithm(alg, X, y, parameters, cv = 5):\n",
    "    \"\"\"\n",
    "    This function will split our dataset into training and testing subsets, fit cross-validated \n",
    "    GridSearch object, test it on the holdout set and return some statistics\n",
    "    \"\"\"\n",
    "    X_train, X_test, y_train, y_test = train_test_split(X, y, random_state = 123)\n",
    "    grid = GridSearchCV(alg, parameters, cv = cv)\n",
    "    grid.fit(X_train, y_train)\n",
    "    y_pred = grid.predict(X_test)\n",
    "    confmat = confusion_matrix(y_test,y_pred)\n",
    "\n",
    "    return pd.Series({\n",
    "        \"Train_ACC\": np.around(grid.best_score_, decimals=2).astype(str),\n",
    "        \"Test_ACC\": np.around(grid.score(X_test, y_test), decimals=2).astype(str),\n",
    "        \"P\": np.around(precision_score(y_pred, y_test), decimals=2).astype(str),\n",
    "        \"R\": np.around(recall_score(y_pred, y_test),decimals=2).astype(str),\n",
    "        \"F1\": np.around(f1_score(y_pred, y_test),decimals=2).astype(str),\n",
    "        \"Best_params\": [grid.best_params_],\n",
    "        \"True negatives\": confmat[0,0],\n",
    "        \"False negatives\": confmat[1,0],\n",
    "        \"True positives\": confmat[1,1],\n",
    "        \"False positives\": confmat[0,1]\n",
    "        })"
   ]
  },
  {
   "cell_type": "code",
   "execution_count": 67,
   "metadata": {},
   "outputs": [
    {
     "name": "stderr",
     "output_type": "stream",
     "text": [
      "C:\\ProgramData\\Anaconda3\\lib\\site-packages\\sklearn\\linear_model\\logistic.py:433: FutureWarning: Default solver will be changed to 'lbfgs' in 0.22. Specify a solver to silence this warning.\n",
      "  FutureWarning)\n",
      "C:\\ProgramData\\Anaconda3\\lib\\site-packages\\sklearn\\linear_model\\logistic.py:433: FutureWarning: Default solver will be changed to 'lbfgs' in 0.22. Specify a solver to silence this warning.\n",
      "  FutureWarning)\n",
      "C:\\ProgramData\\Anaconda3\\lib\\site-packages\\sklearn\\linear_model\\logistic.py:433: FutureWarning: Default solver will be changed to 'lbfgs' in 0.22. Specify a solver to silence this warning.\n",
      "  FutureWarning)\n",
      "C:\\ProgramData\\Anaconda3\\lib\\site-packages\\sklearn\\linear_model\\logistic.py:433: FutureWarning: Default solver will be changed to 'lbfgs' in 0.22. Specify a solver to silence this warning.\n",
      "  FutureWarning)\n",
      "C:\\ProgramData\\Anaconda3\\lib\\site-packages\\sklearn\\linear_model\\logistic.py:433: FutureWarning: Default solver will be changed to 'lbfgs' in 0.22. Specify a solver to silence this warning.\n",
      "  FutureWarning)\n",
      "C:\\ProgramData\\Anaconda3\\lib\\site-packages\\sklearn\\linear_model\\logistic.py:433: FutureWarning: Default solver will be changed to 'lbfgs' in 0.22. Specify a solver to silence this warning.\n",
      "  FutureWarning)\n",
      "C:\\ProgramData\\Anaconda3\\lib\\site-packages\\sklearn\\linear_model\\logistic.py:433: FutureWarning: Default solver will be changed to 'lbfgs' in 0.22. Specify a solver to silence this warning.\n",
      "  FutureWarning)\n",
      "C:\\ProgramData\\Anaconda3\\lib\\site-packages\\sklearn\\linear_model\\logistic.py:433: FutureWarning: Default solver will be changed to 'lbfgs' in 0.22. Specify a solver to silence this warning.\n",
      "  FutureWarning)\n",
      "C:\\ProgramData\\Anaconda3\\lib\\site-packages\\sklearn\\linear_model\\logistic.py:433: FutureWarning: Default solver will be changed to 'lbfgs' in 0.22. Specify a solver to silence this warning.\n",
      "  FutureWarning)\n",
      "C:\\ProgramData\\Anaconda3\\lib\\site-packages\\sklearn\\linear_model\\logistic.py:433: FutureWarning: Default solver will be changed to 'lbfgs' in 0.22. Specify a solver to silence this warning.\n",
      "  FutureWarning)\n",
      "C:\\ProgramData\\Anaconda3\\lib\\site-packages\\sklearn\\linear_model\\logistic.py:433: FutureWarning: Default solver will be changed to 'lbfgs' in 0.22. Specify a solver to silence this warning.\n",
      "  FutureWarning)\n",
      "C:\\ProgramData\\Anaconda3\\lib\\site-packages\\sklearn\\linear_model\\logistic.py:433: FutureWarning: Default solver will be changed to 'lbfgs' in 0.22. Specify a solver to silence this warning.\n",
      "  FutureWarning)\n",
      "C:\\ProgramData\\Anaconda3\\lib\\site-packages\\sklearn\\linear_model\\logistic.py:433: FutureWarning: Default solver will be changed to 'lbfgs' in 0.22. Specify a solver to silence this warning.\n",
      "  FutureWarning)\n",
      "C:\\ProgramData\\Anaconda3\\lib\\site-packages\\sklearn\\linear_model\\logistic.py:433: FutureWarning: Default solver will be changed to 'lbfgs' in 0.22. Specify a solver to silence this warning.\n",
      "  FutureWarning)\n",
      "C:\\ProgramData\\Anaconda3\\lib\\site-packages\\sklearn\\linear_model\\logistic.py:433: FutureWarning: Default solver will be changed to 'lbfgs' in 0.22. Specify a solver to silence this warning.\n",
      "  FutureWarning)\n",
      "C:\\ProgramData\\Anaconda3\\lib\\site-packages\\sklearn\\linear_model\\logistic.py:433: FutureWarning: Default solver will be changed to 'lbfgs' in 0.22. Specify a solver to silence this warning.\n",
      "  FutureWarning)\n",
      "C:\\ProgramData\\Anaconda3\\lib\\site-packages\\sklearn\\linear_model\\logistic.py:433: FutureWarning: Default solver will be changed to 'lbfgs' in 0.22. Specify a solver to silence this warning.\n",
      "  FutureWarning)\n",
      "C:\\ProgramData\\Anaconda3\\lib\\site-packages\\sklearn\\linear_model\\logistic.py:433: FutureWarning: Default solver will be changed to 'lbfgs' in 0.22. Specify a solver to silence this warning.\n",
      "  FutureWarning)\n",
      "C:\\ProgramData\\Anaconda3\\lib\\site-packages\\sklearn\\linear_model\\logistic.py:433: FutureWarning: Default solver will be changed to 'lbfgs' in 0.22. Specify a solver to silence this warning.\n",
      "  FutureWarning)\n",
      "C:\\ProgramData\\Anaconda3\\lib\\site-packages\\sklearn\\linear_model\\logistic.py:433: FutureWarning: Default solver will be changed to 'lbfgs' in 0.22. Specify a solver to silence this warning.\n",
      "  FutureWarning)\n",
      "C:\\ProgramData\\Anaconda3\\lib\\site-packages\\sklearn\\linear_model\\logistic.py:433: FutureWarning: Default solver will be changed to 'lbfgs' in 0.22. Specify a solver to silence this warning.\n",
      "  FutureWarning)\n",
      "C:\\ProgramData\\Anaconda3\\lib\\site-packages\\sklearn\\linear_model\\logistic.py:433: FutureWarning: Default solver will be changed to 'lbfgs' in 0.22. Specify a solver to silence this warning.\n",
      "  FutureWarning)\n",
      "C:\\ProgramData\\Anaconda3\\lib\\site-packages\\sklearn\\linear_model\\logistic.py:433: FutureWarning: Default solver will be changed to 'lbfgs' in 0.22. Specify a solver to silence this warning.\n",
      "  FutureWarning)\n",
      "C:\\ProgramData\\Anaconda3\\lib\\site-packages\\sklearn\\linear_model\\logistic.py:433: FutureWarning: Default solver will be changed to 'lbfgs' in 0.22. Specify a solver to silence this warning.\n",
      "  FutureWarning)\n",
      "C:\\ProgramData\\Anaconda3\\lib\\site-packages\\sklearn\\linear_model\\logistic.py:433: FutureWarning: Default solver will be changed to 'lbfgs' in 0.22. Specify a solver to silence this warning.\n",
      "  FutureWarning)\n",
      "C:\\ProgramData\\Anaconda3\\lib\\site-packages\\sklearn\\linear_model\\logistic.py:433: FutureWarning: Default solver will be changed to 'lbfgs' in 0.22. Specify a solver to silence this warning.\n",
      "  FutureWarning)\n",
      "C:\\ProgramData\\Anaconda3\\lib\\site-packages\\sklearn\\linear_model\\logistic.py:433: FutureWarning: Default solver will be changed to 'lbfgs' in 0.22. Specify a solver to silence this warning.\n",
      "  FutureWarning)\n",
      "C:\\ProgramData\\Anaconda3\\lib\\site-packages\\sklearn\\linear_model\\logistic.py:433: FutureWarning: Default solver will be changed to 'lbfgs' in 0.22. Specify a solver to silence this warning.\n",
      "  FutureWarning)\n",
      "C:\\ProgramData\\Anaconda3\\lib\\site-packages\\sklearn\\linear_model\\logistic.py:433: FutureWarning: Default solver will be changed to 'lbfgs' in 0.22. Specify a solver to silence this warning.\n",
      "  FutureWarning)\n",
      "C:\\ProgramData\\Anaconda3\\lib\\site-packages\\sklearn\\linear_model\\logistic.py:433: FutureWarning: Default solver will be changed to 'lbfgs' in 0.22. Specify a solver to silence this warning.\n",
      "  FutureWarning)\n",
      "C:\\ProgramData\\Anaconda3\\lib\\site-packages\\sklearn\\linear_model\\logistic.py:433: FutureWarning: Default solver will be changed to 'lbfgs' in 0.22. Specify a solver to silence this warning.\n",
      "  FutureWarning)\n"
     ]
    },
    {
     "data": {
      "text/plain": [
       "Train_ACC                0.93\n",
       "Test_ACC                 0.93\n",
       "P                         1.0\n",
       "R                        0.93\n",
       "F1                       0.96\n",
       "Best_params        [{'C': 1}]\n",
       "True negatives              9\n",
       "False negatives            21\n",
       "True positives          82634\n",
       "False positives          6378\n",
       "dtype: object"
      ]
     },
     "execution_count": 67,
     "metadata": {},
     "output_type": "execute_result"
    }
   ],
   "source": [
    "#To perform hyper parameter optimisation a list of multiple elements will be entered and the optimal \n",
    "#value in that list will be picked using Grid Search object\n",
    "logreg_params = {'C': [0.001, 0.01, 0.1, 1, 10, 100] }\n",
    "\n",
    "logreg = fit_algorithm(LogisticRegression(),X,y,logreg_params)\n",
    "logreg"
   ]
  },
  {
   "cell_type": "markdown",
   "metadata": {},
   "source": [
    "As seen, the Logistic Regression Classifier results in 93% accuracy on both training and testing datasets which is quite a good score."
   ]
  },
  {
   "cell_type": "markdown",
   "metadata": {},
   "source": [
    "**k-Nearest Neighbors**\n",
    "\n",
    "KNN is a non-parametric and lazy learning algorithm. Non-parametric means there is no assumption for underlying data distribution. In other words, the model structure determined from the dataset.\n",
    "\n",
    "KNN performs better with a lower number of features than a large number of features.\n",
    "\n",
    "Lazy Learning means there is no need for learning or training of the model and all of the data points used at the time of prediction. Lazy learners wait until the last minute before classifying any data point. Lazy learner stores merely the training dataset and waits until classification needs to perform. Only when it sees the test tuple does it perform generalization to classify the tuple based on its similarity to the stored training tuples. Unlike eager learning methods, lazy learners do less work in the training phase and more work in the testing phase to make a classification. Lazy learners are also known as instance-based learners because lazy learners store the training points or instances, and all learning is based on instances.\n",
    "\n",
    "Generally K is chosen as an odd number if the numebr of classes is even."
   ]
  },
  {
   "cell_type": "code",
   "execution_count": 69,
   "metadata": {},
   "outputs": [
    {
     "data": {
      "text/plain": [
       "Train_ACC                          0.93\n",
       "Test_ACC                           0.93\n",
       "P                                  0.99\n",
       "R                                  0.94\n",
       "F1                                 0.96\n",
       "Best_params        [{'n_neighbors': 9}]\n",
       "True negatives                      851\n",
       "False negatives                     523\n",
       "True positives                    82132\n",
       "False positives                    5536\n",
       "dtype: object"
      ]
     },
     "execution_count": 69,
     "metadata": {},
     "output_type": "execute_result"
    }
   ],
   "source": [
    "#Importing k-Nearest Neighbors Classifier\n",
    "from sklearn.neighbors import KNeighborsClassifier\n",
    "\n",
    "#Defining range of parameters for kNN Clssifier\n",
    "knn_params = {'n_neighbors': np.arange(1,11).tolist()}\n",
    "\n",
    "#Using \"fit_algorithm\" function with kNN Classifier\n",
    "knn = fit_algorithm(KNeighborsClassifier(),X,y,knn_params)\n",
    "knn"
   ]
  },
  {
   "cell_type": "markdown",
   "metadata": {},
   "source": [
    "As we can see , k-Nearest Neighbors Classifier achieved the same accuracy score as the Logistic Regression Classifier with slight variation in Confusion Matrix parameters."
   ]
  },
  {
   "cell_type": "markdown",
   "metadata": {},
   "source": [
    "**Randm Forest Classifier**\n",
    "\n",
    "Random forests is a supervised learning algorithm. It can be used both for classification and regression. It is also the most flexible and easy to use algorithm. A forest is comprised of trees. It is said that the more trees it has, the more robust a forest is. Random forests creates decision trees on randomly selected data samples, gets prediction from each tree and selects the best solution by means of voting. It also provides a pretty good indicator of the feature importance.\n",
    "\n",
    "- Random forests is considered as a highly accurate and robust method because of the number of decision trees participating in the process.\n",
    "- It does not suffer from the overfitting problem. The main reason is that it takes the average of all the predictions, which cancels out the biases.\n",
    "- The algorithm can be used in both classification and regression problems.\n",
    "- Random forests can also handle missing values. There are two ways to handle these: using median values to replace continuous variables, and computing the proximity-weighted average of missing values."
   ]
  },
  {
   "cell_type": "code",
   "execution_count": 71,
   "metadata": {},
   "outputs": [
    {
     "data": {
      "text/plain": [
       "Train_ACC                                                       0.94\n",
       "Test_ACC                                                        0.94\n",
       "P                                                               0.99\n",
       "R                                                               0.94\n",
       "F1                                                              0.97\n",
       "Best_params        [{'max_depth': 20, 'max_features': 4, 'n_estim...\n",
       "True negatives                                                  1426\n",
       "False negatives                                                  533\n",
       "True positives                                                 82122\n",
       "False positives                                                 4961\n",
       "dtype: object"
      ]
     },
     "execution_count": 71,
     "metadata": {},
     "output_type": "execute_result"
    }
   ],
   "source": [
    "#Defining range of parameters for Random Forest Clssifier\n",
    "forest_params = {'n_estimators': [10,20,30,40,50],\n",
    "     'max_depth': [15,20,25,30],\n",
    "     'max_features': [2,3,4],\n",
    "     'random_state': [123],\n",
    "     'n_jobs': [-1]\n",
    "    }\n",
    "    \n",
    "# #Importing RandomForestClassifier from sklearn\n",
    "from sklearn.ensemble import RandomForestClassifier\n",
    "\n",
    "forest = fit_algorithm(RandomForestClassifier(),X,y, forest_params)\n",
    "forest"
   ]
  },
  {
   "cell_type": "markdown",
   "metadata": {},
   "source": [
    "As we can see, the Random Forest Classifier achieved the accuracy of 94% which is 1% better than Logistic Regression and k-Nearest Neighbors Classifiers. The distribution of True Positives, True Negatives, False Positives and False Negatives is also different. \n",
    "\n",
    "Finally, since the Random Forest Classifier achieved best accuracy on both training and testing datasets I'll built a model using parameter values chosen by Grid Search object and display feature importances so that we will find out which feature is the most important one in obtatining a US Permanent Visa."
   ]
  },
  {
   "cell_type": "code",
   "execution_count": 72,
   "metadata": {},
   "outputs": [
    {
     "data": {
      "text/html": [
       "<div>\n",
       "<style scoped>\n",
       "    .dataframe tbody tr th:only-of-type {\n",
       "        vertical-align: middle;\n",
       "    }\n",
       "\n",
       "    .dataframe tbody tr th {\n",
       "        vertical-align: top;\n",
       "    }\n",
       "\n",
       "    .dataframe thead th {\n",
       "        text-align: right;\n",
       "    }\n",
       "</style>\n",
       "<table border=\"1\" class=\"dataframe\">\n",
       "  <thead>\n",
       "    <tr style=\"text-align: right;\">\n",
       "      <th></th>\n",
       "      <th>Logistic Regression</th>\n",
       "      <th>k-Nearest Neighbors</th>\n",
       "      <th>Random Forest</th>\n",
       "    </tr>\n",
       "  </thead>\n",
       "  <tbody>\n",
       "    <tr>\n",
       "      <th>Train_ACC</th>\n",
       "      <td>0.93</td>\n",
       "      <td>0.93</td>\n",
       "      <td>0.94</td>\n",
       "    </tr>\n",
       "    <tr>\n",
       "      <th>Test_ACC</th>\n",
       "      <td>0.93</td>\n",
       "      <td>0.93</td>\n",
       "      <td>0.94</td>\n",
       "    </tr>\n",
       "    <tr>\n",
       "      <th>P</th>\n",
       "      <td>1.0</td>\n",
       "      <td>0.99</td>\n",
       "      <td>0.99</td>\n",
       "    </tr>\n",
       "    <tr>\n",
       "      <th>R</th>\n",
       "      <td>0.93</td>\n",
       "      <td>0.94</td>\n",
       "      <td>0.94</td>\n",
       "    </tr>\n",
       "    <tr>\n",
       "      <th>F1</th>\n",
       "      <td>0.96</td>\n",
       "      <td>0.96</td>\n",
       "      <td>0.97</td>\n",
       "    </tr>\n",
       "    <tr>\n",
       "      <th>Best_params</th>\n",
       "      <td>[{'C': 1}]</td>\n",
       "      <td>[{'n_neighbors': 9}]</td>\n",
       "      <td>[{'max_depth': 20, 'max_features': 4, 'n_estim...</td>\n",
       "    </tr>\n",
       "    <tr>\n",
       "      <th>True negatives</th>\n",
       "      <td>9</td>\n",
       "      <td>851</td>\n",
       "      <td>1426</td>\n",
       "    </tr>\n",
       "    <tr>\n",
       "      <th>False negatives</th>\n",
       "      <td>21</td>\n",
       "      <td>523</td>\n",
       "      <td>533</td>\n",
       "    </tr>\n",
       "    <tr>\n",
       "      <th>True positives</th>\n",
       "      <td>82634</td>\n",
       "      <td>82132</td>\n",
       "      <td>82122</td>\n",
       "    </tr>\n",
       "    <tr>\n",
       "      <th>False positives</th>\n",
       "      <td>6378</td>\n",
       "      <td>5536</td>\n",
       "      <td>4961</td>\n",
       "    </tr>\n",
       "  </tbody>\n",
       "</table>\n",
       "</div>"
      ],
      "text/plain": [
       "                Logistic Regression   k-Nearest Neighbors  \\\n",
       "Train_ACC                      0.93                  0.93   \n",
       "Test_ACC                       0.93                  0.93   \n",
       "P                               1.0                  0.99   \n",
       "R                              0.93                  0.94   \n",
       "F1                             0.96                  0.96   \n",
       "Best_params              [{'C': 1}]  [{'n_neighbors': 9}]   \n",
       "True negatives                    9                   851   \n",
       "False negatives                  21                   523   \n",
       "True positives                82634                 82132   \n",
       "False positives                6378                  5536   \n",
       "\n",
       "                                                     Random Forest  \n",
       "Train_ACC                                                     0.94  \n",
       "Test_ACC                                                      0.94  \n",
       "P                                                             0.99  \n",
       "R                                                             0.94  \n",
       "F1                                                            0.97  \n",
       "Best_params      [{'max_depth': 20, 'max_features': 4, 'n_estim...  \n",
       "True negatives                                                1426  \n",
       "False negatives                                                533  \n",
       "True positives                                               82122  \n",
       "False positives                                               4961  "
      ]
     },
     "execution_count": 72,
     "metadata": {},
     "output_type": "execute_result"
    }
   ],
   "source": [
    "# Dataframe made of results \n",
    "summary = pd.concat([logreg,knn,forest],axis=1)\n",
    "summary.columns = ['Logistic Regression', 'k-Nearest Neighbors','Random Forest']\n",
    "summary "
   ]
  },
  {
   "cell_type": "code",
   "execution_count": 73,
   "metadata": {},
   "outputs": [
    {
     "data": {
      "image/png": "[encoded data removed]",
      "text/plain": [
       "<Figure size 720x576 with 1 Axes>"
      ]
     },
     "metadata": {
      "needs_background": "light"
     },
     "output_type": "display_data"
    }
   ],
   "source": [
    "X_train, X_test, y_train, y_test = train_test_split(X, y, random_state = 123)\n",
    "final_forest = RandomForestClassifier(n_estimators = 50, max_depth = 20, max_features = 4, random_state = 123, n_jobs = -1)\n",
    "final_forest.fit(X_train, y_train)\n",
    "importances = final_forest.feature_importances_\n",
    "std = np.std([tree.feature_importances_ for tree in final_forest.estimators_],\n",
    "             axis=0)\n",
    "indices = np.argsort(importances)[::-1]\n",
    "\n",
    "# Plot the feature importances of the forest\n",
    "plt.figure(figsize=(10, 8))\n",
    "plt.title(\"Feature importances\")\n",
    "plt.bar(range(X_train.shape[1]), importances[indices],\n",
    "       color=\"g\", yerr=std[indices], align=\"center\")\n",
    "plt.xticks(range(X_train.shape[1]), X_train.columns, rotation = 90)\n",
    "plt.xlim([-1, X_train.shape[1]])\n",
    "plt.show()     "
   ]
  },
  {
   "cell_type": "markdown",
   "metadata": {},
   "source": [
    "### Conclusion ###"
   ]
  },
  {
   "cell_type": "markdown",
   "metadata": {},
   "source": [
    "According to the feature importances returned by Random Forest Classifier all of the chosen variables are significant for predicting Visa application decisions. Most informative features are: class of admission(Visa type), country of citizenship and employer related details like location, name and state."
   ]
  },
  {
   "cell_type": "markdown",
   "metadata": {},
   "source": [
    "### References ###\n",
    "https://www.kaggle.com/nsharan/h-1b-visa<br>\n",
    "https://www.dol.gov/<br>"
   ]
  },
  {
   "cell_type": "code",
   "execution_count": null,
   "metadata": {},
   "outputs": [],
   "source": []
  }
 ],
 "metadata": {
  "kernelspec": {
   "display_name": "Python 3",
   "language": "python",
   "name": "python3"
  },
  "language_info": {
   "codemirror_mode": {
    "name": "ipython",
    "version": 3
   },
   "file_extension": ".py",
   "mimetype": "text/x-python",
   "name": "python",
   "nbconvert_exporter": "python",
   "pygments_lexer": "ipython3",
   "version": "3.7.1"
  }
 },
 "nbformat": 4,
 "nbformat_minor": 2
}
